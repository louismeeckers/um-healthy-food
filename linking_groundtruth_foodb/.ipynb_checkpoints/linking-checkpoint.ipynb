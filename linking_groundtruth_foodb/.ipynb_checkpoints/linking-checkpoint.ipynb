{
 "cells": [
  {
   "cell_type": "code",
   "execution_count": 1,
   "id": "bb2d1b0b-ed9d-4f07-966f-cb52845d9c80",
   "metadata": {},
   "outputs": [],
   "source": [
    "import pandas as pd \n",
    "import numpy as np"
   ]
  },
  {
   "cell_type": "markdown",
   "id": "2d159297-c988-47c1-8af5-27b598be9468",
   "metadata": {},
   "source": [
    "# Create Dictionary - Key: Food Name, Value: usda URL"
   ]
  },
  {
   "cell_type": "code",
   "execution_count": 2,
   "id": "acbe48f9-acd2-44de-b8e5-c8cdda92b7a1",
   "metadata": {},
   "outputs": [],
   "source": [
    "f = open(\"urls_labels.txt\", \"r\")\n",
    "text = f.readlines()"
   ]
  },
  {
   "cell_type": "code",
   "execution_count": 3,
   "id": "530b2040-7bae-4741-b394-27c481d4cb89",
   "metadata": {},
   "outputs": [],
   "source": [
    "def clean_line(line):\n",
    "    line = line.replace('rdfs:label ','')\n",
    "    line = line.replace('\",','')\n",
    "    line = line.replace(' .','')\n",
    "    return line"
   ]
  },
  {
   "cell_type": "code",
   "execution_count": 4,
   "id": "639031f0-14a6-40c9-bb30-bbfbaf36c2a6",
   "metadata": {},
   "outputs": [],
   "source": [
    "url = []\n",
    "label = []\n",
    "for line in text:\n",
    "    line = line.strip()\n",
    "    if line.startswith('<http://idea.rpi.edu/heals/kb/'):\n",
    "        line = line.replace('<', '')\n",
    "        line = line.replace('> a https://www.bbc.co.uk/ontologies/fo/Ingredient> ;', '')\n",
    "        url.append(line)\n",
    "    elif line.startswith('rdfs:label') and line.endswith('.'):\n",
    "        line = clean_line(line)\n",
    "        label.append(line)\n",
    "    elif line.startswith('rdfs:label') and line.endswith(','):\n",
    "        line = clean_line(line)\n",
    "        all_labels = []\n",
    "        all_labels.append(line)        \n",
    "    elif line.startswith('\"') and line.endswith(','):\n",
    "        line = clean_line(line)\n",
    "        all_labels.append(line)\n",
    "    elif line.startswith('\"') and line.endswith('.'):\n",
    "        line = clean_line(line)\n",
    "        all_labels.append(line)\n",
    "        label.append(all_labels)"
   ]
  },
  {
   "cell_type": "code",
   "execution_count": 5,
   "id": "bba2ef83-e25b-479f-b737-7b61141e044e",
   "metadata": {},
   "outputs": [],
   "source": [
    "df = pd.DataFrame()\n",
    "df['url'] = url\n",
    "df['label'] = label"
   ]
  },
  {
   "cell_type": "code",
   "execution_count": 6,
   "id": "dfa77ea9-78bb-4ed8-82a7-2aebaefd53e2",
   "metadata": {},
   "outputs": [
    {
     "data": {
      "text/html": [
       "<div>\n",
       "<style scoped>\n",
       "    .dataframe tbody tr th:only-of-type {\n",
       "        vertical-align: middle;\n",
       "    }\n",
       "\n",
       "    .dataframe tbody tr th {\n",
       "        vertical-align: top;\n",
       "    }\n",
       "\n",
       "    .dataframe thead th {\n",
       "        text-align: right;\n",
       "    }\n",
       "</style>\n",
       "<table border=\"1\" class=\"dataframe\">\n",
       "  <thead>\n",
       "    <tr style=\"text-align: right;\">\n",
       "      <th></th>\n",
       "      <th>url</th>\n",
       "      <th>label</th>\n",
       "    </tr>\n",
       "  </thead>\n",
       "  <tbody>\n",
       "    <tr>\n",
       "      <th>0</th>\n",
       "      <td>http://idea.rpi.edu/heals/kb/usda#01001</td>\n",
       "      <td>\"Butter, salted\"</td>\n",
       "    </tr>\n",
       "    <tr>\n",
       "      <th>1</th>\n",
       "      <td>http://idea.rpi.edu/heals/kb/usda#01002</td>\n",
       "      <td>\"Butter, whipped, with salt\"</td>\n",
       "    </tr>\n",
       "    <tr>\n",
       "      <th>2</th>\n",
       "      <td>http://idea.rpi.edu/heals/kb/usda#01003</td>\n",
       "      <td>\"Butter oil, anhydrous\"</td>\n",
       "    </tr>\n",
       "    <tr>\n",
       "      <th>3</th>\n",
       "      <td>http://idea.rpi.edu/heals/kb/usda#01004</td>\n",
       "      <td>\"Cheese, blue\"</td>\n",
       "    </tr>\n",
       "    <tr>\n",
       "      <th>4</th>\n",
       "      <td>http://idea.rpi.edu/heals/kb/usda#01005</td>\n",
       "      <td>\"Cheese, brick\"</td>\n",
       "    </tr>\n",
       "  </tbody>\n",
       "</table>\n",
       "</div>"
      ],
      "text/plain": [
       "                                       url                         label\n",
       "0  http://idea.rpi.edu/heals/kb/usda#01001              \"Butter, salted\"\n",
       "1  http://idea.rpi.edu/heals/kb/usda#01002  \"Butter, whipped, with salt\"\n",
       "2  http://idea.rpi.edu/heals/kb/usda#01003       \"Butter oil, anhydrous\"\n",
       "3  http://idea.rpi.edu/heals/kb/usda#01004                \"Cheese, blue\"\n",
       "4  http://idea.rpi.edu/heals/kb/usda#01005               \"Cheese, brick\""
      ]
     },
     "execution_count": 6,
     "metadata": {},
     "output_type": "execute_result"
    }
   ],
   "source": [
    "df.head()"
   ]
  },
  {
   "cell_type": "code",
   "execution_count": 7,
   "id": "a227f235-567f-4db7-a91e-c92934b41e9f",
   "metadata": {},
   "outputs": [],
   "source": [
    "mapName2Url = {}\n",
    "for i, row in df.iterrows():\n",
    "    url = row[0]\n",
    "    label = row [1]\n",
    "    \n",
    "    if type(label) is list:\n",
    "        for x in label:\n",
    "            x = x.replace('\"','')\n",
    "            mapName2Url[x] = url\n",
    "    elif type(label) is not list:\n",
    "        label = label.replace('\"','')\n",
    "        mapName2Url[label] = url"
   ]
  },
  {
   "cell_type": "markdown",
   "id": "ffc039f4-1be2-4a5f-85b3-3ff86e310b52",
   "metadata": {},
   "source": [
    "# Replace Everything by usda URL"
   ]
  },
  {
   "cell_type": "code",
   "execution_count": 8,
   "id": "e6cf3b9c-bfee-4d0f-be3c-669c354454f0",
   "metadata": {},
   "outputs": [
    {
     "data": {
      "text/html": [
       "<div>\n",
       "<style scoped>\n",
       "    .dataframe tbody tr th:only-of-type {\n",
       "        vertical-align: middle;\n",
       "    }\n",
       "\n",
       "    .dataframe tbody tr th {\n",
       "        vertical-align: top;\n",
       "    }\n",
       "\n",
       "    .dataframe thead th {\n",
       "        text-align: right;\n",
       "    }\n",
       "</style>\n",
       "<table border=\"1\" class=\"dataframe\">\n",
       "  <thead>\n",
       "    <tr style=\"text-align: right;\">\n",
       "      <th></th>\n",
       "      <th>Food id</th>\n",
       "      <th>Food</th>\n",
       "      <th>Verified Subsititions</th>\n",
       "      <th>Food substitutions</th>\n",
       "      <th>Similar Food</th>\n",
       "    </tr>\n",
       "  </thead>\n",
       "  <tbody>\n",
       "    <tr>\n",
       "      <th>0</th>\n",
       "      <td>usda#09229</td>\n",
       "      <td>Papaya nectar, canned</td>\n",
       "      <td>['Peach nectar, canned, with sucralose', 'Appl...</td>\n",
       "      <td>['Oil, almond', 'SILK Peach soy yogurt', 'Ham,...</td>\n",
       "      <td>['Pickles, cucumber, sweet ', 'Peach nectar, c...</td>\n",
       "    </tr>\n",
       "    <tr>\n",
       "      <th>1</th>\n",
       "      <td>usda#09206</td>\n",
       "      <td>Orange juice, raw</td>\n",
       "      <td>['Mangos, raw', 'Orange juice, chilled, includ...</td>\n",
       "      <td>['Acerola juice, raw', 'Milk, filled, fluid', ...</td>\n",
       "      <td>['Onions, spring or scallions , raw', 'Caulifl...</td>\n",
       "    </tr>\n",
       "    <tr>\n",
       "      <th>2</th>\n",
       "      <td>usda#09008</td>\n",
       "      <td>Apples, canned, sweetened</td>\n",
       "      <td>['Peach nectar, canned, with sucralose', 'Pome...</td>\n",
       "      <td>['Celery, raw', 'Peaches, yellow, raw', 'Dates...</td>\n",
       "      <td>['Pickles, cucumber, sweet ', 'Peach nectar, c...</td>\n",
       "    </tr>\n",
       "    <tr>\n",
       "      <th>3</th>\n",
       "      <td>usda#04529</td>\n",
       "      <td>Oil, almond</td>\n",
       "      <td>['Oil, sunflower, linoleic', 'Oil, cottonseed,...</td>\n",
       "      <td>['Milk, dry, whole', 'SILK Coffee, soymilk', '...</td>\n",
       "      <td>['Oil, sunflower, linoleic', 'Oil, cottonseed,...</td>\n",
       "    </tr>\n",
       "    <tr>\n",
       "      <th>4</th>\n",
       "      <td>usda#07022</td>\n",
       "      <td>Frankfurter, beef, unheated</td>\n",
       "      <td>['Frankfurter, meat and poultry, unheated', 'S...</td>\n",
       "      <td>['SILK Coffee, soymilk', 'Sauce, peppers, hot'...</td>\n",
       "      <td>['Oil, canola', 'Oil, peanut, salad or cooking...</td>\n",
       "    </tr>\n",
       "  </tbody>\n",
       "</table>\n",
       "</div>"
      ],
      "text/plain": [
       "      Food id                         Food  \\\n",
       "0  usda#09229        Papaya nectar, canned   \n",
       "1  usda#09206            Orange juice, raw   \n",
       "2  usda#09008    Apples, canned, sweetened   \n",
       "3  usda#04529                  Oil, almond   \n",
       "4  usda#07022  Frankfurter, beef, unheated   \n",
       "\n",
       "                               Verified Subsititions  \\\n",
       "0  ['Peach nectar, canned, with sucralose', 'Appl...   \n",
       "1  ['Mangos, raw', 'Orange juice, chilled, includ...   \n",
       "2  ['Peach nectar, canned, with sucralose', 'Pome...   \n",
       "3  ['Oil, sunflower, linoleic', 'Oil, cottonseed,...   \n",
       "4  ['Frankfurter, meat and poultry, unheated', 'S...   \n",
       "\n",
       "                                  Food substitutions  \\\n",
       "0  ['Oil, almond', 'SILK Peach soy yogurt', 'Ham,...   \n",
       "1  ['Acerola juice, raw', 'Milk, filled, fluid', ...   \n",
       "2  ['Celery, raw', 'Peaches, yellow, raw', 'Dates...   \n",
       "3  ['Milk, dry, whole', 'SILK Coffee, soymilk', '...   \n",
       "4  ['SILK Coffee, soymilk', 'Sauce, peppers, hot'...   \n",
       "\n",
       "                                        Similar Food  \n",
       "0  ['Pickles, cucumber, sweet ', 'Peach nectar, c...  \n",
       "1  ['Onions, spring or scallions , raw', 'Caulifl...  \n",
       "2  ['Pickles, cucumber, sweet ', 'Peach nectar, c...  \n",
       "3  ['Oil, sunflower, linoleic', 'Oil, cottonseed,...  \n",
       "4  ['Oil, canola', 'Oil, peanut, salad or cooking...  "
      ]
     },
     "execution_count": 8,
     "metadata": {},
     "output_type": "execute_result"
    }
   ],
   "source": [
    "df = pd.read_csv('Food_substitution_ground_truth.tsv', sep='\\t', header=0)\n",
    "df.head()"
   ]
  },
  {
   "cell_type": "code",
   "execution_count": 9,
   "id": "81189c16-627c-4e67-804d-244ce0529359",
   "metadata": {},
   "outputs": [],
   "source": [
    "df = df[['Food id', 'Verified Subsititions']]"
   ]
  },
  {
   "cell_type": "code",
   "execution_count": 10,
   "id": "65abe76f-f10e-4324-a420-3e5ab431ccab",
   "metadata": {},
   "outputs": [],
   "source": [
    "def get_lst(i):\n",
    "    x = df['Verified Subsititions'].iloc[i]\n",
    "    x = x.replace('[', '')\n",
    "    x = x.replace(']', '')\n",
    "    x = list(x.split('\\','))\n",
    "\n",
    "    for i in range(len(x)):\n",
    "        if i == 0:\n",
    "            x[i] = x[i].replace('\\'','')\n",
    "        elif i == len(x)-1:\n",
    "            x[i] = x[i].replace('\\'','')\n",
    "            x[i] = x[i][1 : :]\n",
    "        else:\n",
    "            x[i] = x[i].replace(' \\'','')\n",
    "\n",
    "    return x"
   ]
  },
  {
   "cell_type": "code",
   "execution_count": 11,
   "id": "6f450cf6-b7cf-405f-87e9-be5daee76b25",
   "metadata": {},
   "outputs": [],
   "source": [
    "biglst = []\n",
    "for i, row in df.iterrows():\n",
    "    row[0] = row[0].replace(row[0], 'http://idea.rpi.edu/heals/kb/'+str(row[0]))\n",
    "    lst = []\n",
    "    verified_substitutions = get_lst(i)\n",
    "    for x in verified_substitutions:\n",
    "        if x in mapName2Url:\n",
    "            lst.append(mapName2Url[x])\n",
    "    biglst.append(lst)"
   ]
  },
  {
   "cell_type": "code",
   "execution_count": 12,
   "id": "e4f08ec6-b3a4-4672-ac3d-f2ddc783bca5",
   "metadata": {},
   "outputs": [],
   "source": [
    "df['usda_url'] = biglst"
   ]
  },
  {
   "cell_type": "code",
   "execution_count": 13,
   "id": "de64f95d-ee9c-41ae-8671-812a3573af32",
   "metadata": {},
   "outputs": [
    {
     "data": {
      "text/html": [
       "<div>\n",
       "<style scoped>\n",
       "    .dataframe tbody tr th:only-of-type {\n",
       "        vertical-align: middle;\n",
       "    }\n",
       "\n",
       "    .dataframe tbody tr th {\n",
       "        vertical-align: top;\n",
       "    }\n",
       "\n",
       "    .dataframe thead th {\n",
       "        text-align: right;\n",
       "    }\n",
       "</style>\n",
       "<table border=\"1\" class=\"dataframe\">\n",
       "  <thead>\n",
       "    <tr style=\"text-align: right;\">\n",
       "      <th></th>\n",
       "      <th>Food id</th>\n",
       "      <th>Verified Subsititions</th>\n",
       "      <th>usda_url</th>\n",
       "    </tr>\n",
       "  </thead>\n",
       "  <tbody>\n",
       "    <tr>\n",
       "      <th>0</th>\n",
       "      <td>http://idea.rpi.edu/heals/kb/usda#09229</td>\n",
       "      <td>['Peach nectar, canned, with sucralose', 'Appl...</td>\n",
       "      <td>[http://idea.rpi.edu/heals/kb/usda#09251, http...</td>\n",
       "    </tr>\n",
       "    <tr>\n",
       "      <th>1</th>\n",
       "      <td>http://idea.rpi.edu/heals/kb/usda#09206</td>\n",
       "      <td>['Mangos, raw', 'Orange juice, chilled, includ...</td>\n",
       "      <td>[http://idea.rpi.edu/heals/kb/usda#09176, http...</td>\n",
       "    </tr>\n",
       "    <tr>\n",
       "      <th>2</th>\n",
       "      <td>http://idea.rpi.edu/heals/kb/usda#09008</td>\n",
       "      <td>['Peach nectar, canned, with sucralose', 'Pome...</td>\n",
       "      <td>[http://idea.rpi.edu/heals/kb/usda#09251, http...</td>\n",
       "    </tr>\n",
       "    <tr>\n",
       "      <th>3</th>\n",
       "      <td>http://idea.rpi.edu/heals/kb/usda#04529</td>\n",
       "      <td>['Oil, sunflower, linoleic', 'Oil, cottonseed,...</td>\n",
       "      <td>[http://idea.rpi.edu/heals/kb/usda#04506, http...</td>\n",
       "    </tr>\n",
       "    <tr>\n",
       "      <th>4</th>\n",
       "      <td>http://idea.rpi.edu/heals/kb/usda#07022</td>\n",
       "      <td>['Frankfurter, meat and poultry, unheated', 'S...</td>\n",
       "      <td>[http://idea.rpi.edu/heals/kb/usda#07962, http...</td>\n",
       "    </tr>\n",
       "  </tbody>\n",
       "</table>\n",
       "</div>"
      ],
      "text/plain": [
       "                                   Food id  \\\n",
       "0  http://idea.rpi.edu/heals/kb/usda#09229   \n",
       "1  http://idea.rpi.edu/heals/kb/usda#09206   \n",
       "2  http://idea.rpi.edu/heals/kb/usda#09008   \n",
       "3  http://idea.rpi.edu/heals/kb/usda#04529   \n",
       "4  http://idea.rpi.edu/heals/kb/usda#07022   \n",
       "\n",
       "                               Verified Subsititions  \\\n",
       "0  ['Peach nectar, canned, with sucralose', 'Appl...   \n",
       "1  ['Mangos, raw', 'Orange juice, chilled, includ...   \n",
       "2  ['Peach nectar, canned, with sucralose', 'Pome...   \n",
       "3  ['Oil, sunflower, linoleic', 'Oil, cottonseed,...   \n",
       "4  ['Frankfurter, meat and poultry, unheated', 'S...   \n",
       "\n",
       "                                            usda_url  \n",
       "0  [http://idea.rpi.edu/heals/kb/usda#09251, http...  \n",
       "1  [http://idea.rpi.edu/heals/kb/usda#09176, http...  \n",
       "2  [http://idea.rpi.edu/heals/kb/usda#09251, http...  \n",
       "3  [http://idea.rpi.edu/heals/kb/usda#04506, http...  \n",
       "4  [http://idea.rpi.edu/heals/kb/usda#07962, http...  "
      ]
     },
     "execution_count": 13,
     "metadata": {},
     "output_type": "execute_result"
    }
   ],
   "source": [
    "df.head()"
   ]
  },
  {
   "cell_type": "markdown",
   "id": "cd2bb0ad-ec3c-4b0f-8a01-a6e11ae0529f",
   "metadata": {},
   "source": [
    "# Replace Everything by foodb URL "
   ]
  },
  {
   "cell_type": "code",
   "execution_count": 14,
   "id": "686ec2c9-9b5b-4438-a7bc-33fe0db5112e",
   "metadata": {},
   "outputs": [
    {
     "data": {
      "text/html": [
       "<div>\n",
       "<style scoped>\n",
       "    .dataframe tbody tr th:only-of-type {\n",
       "        vertical-align: middle;\n",
       "    }\n",
       "\n",
       "    .dataframe tbody tr th {\n",
       "        vertical-align: top;\n",
       "    }\n",
       "\n",
       "    .dataframe thead th {\n",
       "        text-align: right;\n",
       "    }\n",
       "</style>\n",
       "<table border=\"1\" class=\"dataframe\">\n",
       "  <thead>\n",
       "    <tr style=\"text-align: right;\">\n",
       "      <th></th>\n",
       "      <th>entity1</th>\n",
       "      <th>predicate</th>\n",
       "      <th>entity2</th>\n",
       "      <th>x</th>\n",
       "    </tr>\n",
       "  </thead>\n",
       "  <tbody>\n",
       "    <tr>\n",
       "      <th>0</th>\n",
       "      <td>&lt;http://idea.rpi.edu/heals/kb/usda#20083&gt;</td>\n",
       "      <td>&lt;https://schema.org/isSimilarTo&gt;</td>\n",
       "      <td>&lt;https://foodb.ca/foods/1019&gt;</td>\n",
       "      <td>.</td>\n",
       "    </tr>\n",
       "    <tr>\n",
       "      <th>1</th>\n",
       "      <td>&lt;http://idea.rpi.edu/heals/kb/usda#20083&gt;</td>\n",
       "      <td>&lt;https://schema.org/isSimilarTo&gt;</td>\n",
       "      <td>&lt;https://foodb.ca/foods/836&gt;</td>\n",
       "      <td>.</td>\n",
       "    </tr>\n",
       "    <tr>\n",
       "      <th>2</th>\n",
       "      <td>&lt;http://idea.rpi.edu/heals/kb/usda#20089&gt;</td>\n",
       "      <td>&lt;https://schema.org/isSimilarTo&gt;</td>\n",
       "      <td>&lt;https://foodb.ca/foods/516&gt;</td>\n",
       "      <td>.</td>\n",
       "    </tr>\n",
       "    <tr>\n",
       "      <th>3</th>\n",
       "      <td>&lt;http://idea.rpi.edu/heals/kb/usda#20088&gt;</td>\n",
       "      <td>&lt;https://schema.org/isSimilarTo&gt;</td>\n",
       "      <td>&lt;https://foodb.ca/foods/516&gt;</td>\n",
       "      <td>.</td>\n",
       "    </tr>\n",
       "    <tr>\n",
       "      <th>4</th>\n",
       "      <td>&lt;http://idea.rpi.edu/heals/kb/usda#20087&gt;</td>\n",
       "      <td>&lt;https://schema.org/isSimilarTo&gt;</td>\n",
       "      <td>&lt;https://foodb.ca/foods/575&gt;</td>\n",
       "      <td>.</td>\n",
       "    </tr>\n",
       "  </tbody>\n",
       "</table>\n",
       "</div>"
      ],
      "text/plain": [
       "                                     entity1  \\\n",
       "0  <http://idea.rpi.edu/heals/kb/usda#20083>   \n",
       "1  <http://idea.rpi.edu/heals/kb/usda#20083>   \n",
       "2  <http://idea.rpi.edu/heals/kb/usda#20089>   \n",
       "3  <http://idea.rpi.edu/heals/kb/usda#20088>   \n",
       "4  <http://idea.rpi.edu/heals/kb/usda#20087>   \n",
       "\n",
       "                          predicate                        entity2  x  \n",
       "0  <https://schema.org/isSimilarTo>  <https://foodb.ca/foods/1019>  .  \n",
       "1  <https://schema.org/isSimilarTo>   <https://foodb.ca/foods/836>  .  \n",
       "2  <https://schema.org/isSimilarTo>   <https://foodb.ca/foods/516>  .  \n",
       "3  <https://schema.org/isSimilarTo>   <https://foodb.ca/foods/516>  .  \n",
       "4  <https://schema.org/isSimilarTo>   <https://foodb.ca/foods/575>  .  "
      ]
     },
     "execution_count": 14,
     "metadata": {},
     "output_type": "execute_result"
    }
   ],
   "source": [
    "linking_df = pd.read_csv('limes_accepted.nt', names=['entity1', 'predicate', 'entity2','x'], sep=' ')\n",
    "linking_df.head()"
   ]
  },
  {
   "cell_type": "code",
   "execution_count": 15,
   "id": "7050940b-4217-4b19-bdf4-b9f3ae448db0",
   "metadata": {},
   "outputs": [],
   "source": [
    "mapping={}\n",
    "for i, row in linking_df.iterrows():\n",
    "    entity1= row['entity1'].replace(\"<\",\"\")[:-1]\n",
    "    entity2= row['entity2'].replace(\"<\",\"\")[:-1]\n",
    "    mapping[entity1] = entity2"
   ]
  },
  {
   "cell_type": "code",
   "execution_count": 36,
   "id": "226487ae-35aa-4a01-b47b-892688cb6719",
   "metadata": {},
   "outputs": [],
   "source": [
    "food_foodb = []\n",
    "subs_foodb = []\n",
    "\n",
    "for i, row in df.iterrows():\n",
    "    if row[0] in mapping:\n",
    "        food_foodb.append(mapping[row[0]])\n",
    "    elif row[0] not in mapping:\n",
    "        food_foodb.append(0)\n",
    "    lst = []\n",
    "    for x in row[2]:\n",
    "        if x in mapping and mapping[x] not in lst:\n",
    "            lst.append(mapping[x])\n",
    "    subs_foodb.append(lst)"
   ]
  },
  {
   "cell_type": "code",
   "execution_count": 37,
   "id": "f0794dab-43dc-43d4-8072-b5a5594de940",
   "metadata": {},
   "outputs": [],
   "source": [
    "df['food_foodb'] = food_foodb\n",
    "df['subs_foodb'] = subs_foodb"
   ]
  },
  {
   "cell_type": "code",
   "execution_count": 38,
   "id": "5a501396-50af-4898-8d77-b9224ca6d390",
   "metadata": {},
   "outputs": [],
   "source": [
    "dic_food_subs = {}\n",
    "for i, row in df.iterrows():\n",
    "    if row[3] != 0 and len(row[4]) != 0:\n",
    "        dic_food_subs[row[3]] = row[4]"
   ]
  },
  {
   "cell_type": "code",
   "execution_count": 39,
   "id": "51659df1-fec7-42d0-8f87-f2022e9282dd",
   "metadata": {},
   "outputs": [],
   "source": [
    "import json\n",
    "f = open('ground_truth.json', 'w')\n",
    "f = json.dump(dic_food_subs, f)"
   ]
  }
 ],
 "metadata": {
  "kernelspec": {
   "display_name": "Python 3",
   "language": "python",
   "name": "python3"
  },
  "language_info": {
   "codemirror_mode": {
    "name": "ipython",
    "version": 3
   },
   "file_extension": ".py",
   "mimetype": "text/x-python",
   "name": "python",
   "nbconvert_exporter": "python",
   "pygments_lexer": "ipython3",
   "version": "3.8.8"
  }
 },
 "nbformat": 4,
 "nbformat_minor": 5
}
