{
 "cells": [
  {
   "cell_type": "code",
   "execution_count": 45,
   "metadata": {},
   "outputs": [],
   "source": [
    "import numpy as np\n",
    "import pandas as pd\n",
    "import math as math\n",
    "import matplotlib.pyplot as plt\n",
    "import json\n",
    "from typing import List\n",
    "from urllib.parse import unquote"
   ]
  },
  {
   "cell_type": "markdown",
   "metadata": {},
   "source": [
    "# Clean the Ground Truth dataset"
   ]
  },
  {
   "cell_type": "code",
   "execution_count": 23,
   "metadata": {},
   "outputs": [],
   "source": [
    "data = pd.read_json('groundtruth_food_review.json')\n",
    "ingredients = data.rename(columns={0: \"ingredient\"}).ingredient\n",
    "substitutes = data.rename(columns={1: \"substitute\"}).substitute"
   ]
  },
  {
   "cell_type": "code",
   "execution_count": 24,
   "metadata": {},
   "outputs": [
    {
     "data": {
      "text/plain": [
       "0     http://idea.rpi.edu/heals/kb/ingredientname/mo...\n",
       "1     http://idea.rpi.edu/heals/kb/ingredientname/ta...\n",
       "2     http://idea.rpi.edu/heals/kb/ingredientname/pl...\n",
       "3     http://idea.rpi.edu/heals/kb/ingredientname/ma...\n",
       "4     http://idea.rpi.edu/heals/kb/ingredientname/ca...\n",
       "                            ...                        \n",
       "95    http://idea.rpi.edu/heals/kb/ingredientname/wh...\n",
       "96    http://idea.rpi.edu/heals/kb/ingredientname/vi...\n",
       "97    http://idea.rpi.edu/heals/kb/ingredientname/wa...\n",
       "98    http://idea.rpi.edu/heals/kb/ingredientname/re...\n",
       "99    http://idea.rpi.edu/heals/kb/ingredientname/ev...\n",
       "Name: ingredient, Length: 100, dtype: object"
      ]
     },
     "execution_count": 24,
     "metadata": {},
     "output_type": "execute_result"
    }
   ],
   "source": [
    "ingredients.head(100)"
   ]
  },
  {
   "cell_type": "code",
   "execution_count": 25,
   "metadata": {},
   "outputs": [
    {
     "name": "stdout",
     "output_type": "stream",
     "text": [
      "3846\n",
      "3846\n"
     ]
    }
   ],
   "source": [
    "print(len(ingredients))\n",
    "print(len(substitutes))"
   ]
  },
  {
   "cell_type": "code",
   "execution_count": 38,
   "metadata": {},
   "outputs": [
    {
     "name": "stdout",
     "output_type": "stream",
     "text": [
      "7692\n",
      "1737\n"
     ]
    }
   ],
   "source": [
    "frames = [ingredients, substitutes]\n",
    "allIngredients = pd.concat(frames)\n",
    "print(len(allIngredients))\n",
    "allIngredients = list(set(allIngredients))\n",
    "print(len(allIngredients))"
   ]
  },
  {
   "cell_type": "code",
   "execution_count": 40,
   "metadata": {},
   "outputs": [],
   "source": [
    "def remove_prefix(text, prefix):\n",
    "    if text.startswith(prefix):\n",
    "        return text[len(prefix):]\n",
    "    return text"
   ]
  },
  {
   "cell_type": "code",
   "execution_count": 46,
   "metadata": {},
   "outputs": [
    {
     "data": {
      "text/plain": [
       "'red beans'"
      ]
     },
     "execution_count": 46,
     "metadata": {},
     "output_type": "execute_result"
    }
   ],
   "source": [
    "# 2 methods to get the label\n",
    "unquote(remove_prefix('http://idea.rpi.edu/heals/kb/ingredientname/red%20beans', 'http://idea.rpi.edu/heals/kb/ingredientname/'))"
   ]
  },
  {
   "cell_type": "code",
   "execution_count": 56,
   "metadata": {},
   "outputs": [],
   "source": [
    "class Ingredient:\n",
    "    def __init__(self, uri):\n",
    "        self.uri = uri\n",
    "        self.name = unquote(remove_prefix(uri, 'http://idea.rpi.edu/heals/kb/ingredientname/'))\n",
    "\n",
    "class OpenFoodFact():\n",
    "    def __init__(self, ingredients: List[Ingredient]):\n",
    "        self.ingredients = ingredients\n",
    "        \n",
    "ingredients = [(Ingredient(ingredient)) for ingredient in allIngredients]\n",
    "\n",
    "openfoodfact = OpenFoodFact(ingredients=ingredients)"
   ]
  },
  {
   "cell_type": "code",
   "execution_count": 57,
   "metadata": {},
   "outputs": [],
   "source": [
    "json_data = json.dumps(openfoodfact, default=lambda o: o.__dict__, indent=4, ensure_ascii=False)\n",
    "text_file = open(\"ingredients.json\", \"w\", encoding='utf-8')\n",
    "text_file.write(json_data)\n",
    "text_file.close()"
   ]
  },
  {
   "cell_type": "code",
   "execution_count": null,
   "metadata": {},
   "outputs": [],
   "source": []
  }
 ],
 "metadata": {
  "kernelspec": {
   "display_name": "Python 3",
   "language": "python",
   "name": "python3"
  },
  "language_info": {
   "codemirror_mode": {
    "name": "ipython",
    "version": 3
   },
   "file_extension": ".py",
   "mimetype": "text/x-python",
   "name": "python",
   "nbconvert_exporter": "python",
   "pygments_lexer": "ipython3",
   "version": "3.8.3"
  }
 },
 "nbformat": 4,
 "nbformat_minor": 4
}
