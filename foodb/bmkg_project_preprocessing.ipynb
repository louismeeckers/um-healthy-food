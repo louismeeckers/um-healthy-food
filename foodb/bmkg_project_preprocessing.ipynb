{
  "nbformat": 4,
  "nbformat_minor": 0,
  "metadata": {
    "accelerator": "GPU",
    "colab": {
      "name": "bmkg_project_preprocessing.ipynb",
      "provenance": [],
      "collapsed_sections": []
    },
    "kernelspec": {
      "display_name": "Python 3",
      "name": "python3"
    }
  },
  "cells": [
    {
      "cell_type": "code",
      "metadata": {
        "colab": {
          "base_uri": "https://localhost:8080/"
        },
        "id": "W0NIf5EjMduq",
        "outputId": "5a48092e-178b-451c-fb9b-75aea6b768c5"
      },
      "source": [
        "import pandas as pd\n",
        "import numpy as np\n",
        "from google.colab import drive\n",
        "drive.mount(\"/content/gdrive\")"
      ],
      "execution_count": null,
      "outputs": [
        {
          "output_type": "stream",
          "text": [
            "Mounted at /content/gdrive\n"
          ],
          "name": "stdout"
        }
      ]
    },
    {
      "cell_type": "markdown",
      "metadata": {
        "id": "-rQSER1hMxND"
      },
      "source": [
        "#**Data**"
      ]
    },
    {
      "cell_type": "code",
      "metadata": {
        "id": "HEMYeLxPMriN",
        "colab": {
          "base_uri": "https://localhost:8080/"
        },
        "outputId": "6915d1a4-24ac-4adb-d9d2-a40623f870d2"
      },
      "source": [
        "food = pd.read_csv('/content/gdrive/My Drive/Food.csv')\n",
        "compound = pd.read_csv('/content/gdrive/My Drive/Compound.csv')\n",
        "nutrient = pd.read_csv('/content/gdrive/My Drive/Nutrient.csv')\n",
        "content = pd.read_csv('/content/gdrive/My Drive/Content.csv')\n",
        "health_effect = pd.read_csv('/content/gdrive/My Drive/HealthEffect.csv')\n",
        "compounds_health_effect = pd.read_csv('/content/gdrive/My Drive/CompoundsHealthEffect.csv')\n",
        "flavor = pd.read_csv('/content/gdrive/My Drive/Flavor.csv')\n",
        "compounds_flavor = pd.read_csv('/content/gdrive/My Drive/CompoundsFlavor.csv')"
      ],
      "execution_count": null,
      "outputs": [
        {
          "output_type": "stream",
          "text": [
            "/usr/local/lib/python3.7/dist-packages/IPython/core/interactiveshell.py:2718: DtypeWarning: Columns (3,4,5,6,12,13,14,15) have mixed types.Specify dtype option on import or set low_memory=False.\n",
            "  interactivity=interactivity, compiler=compiler, result=result)\n",
            "/usr/local/lib/python3.7/dist-packages/IPython/core/interactiveshell.py:2718: DtypeWarning: Columns (4,5,6,7,8,9,13,14,21,22,24) have mixed types.Specify dtype option on import or set low_memory=False.\n",
            "  interactivity=interactivity, compiler=compiler, result=result)\n"
          ],
          "name": "stderr"
        }
      ]
    },
    {
      "cell_type": "code",
      "metadata": {
        "id": "_sGmvq4KPCO0"
      },
      "source": [
        "food = food.replace('NA',np.nan)\n",
        "food = food[['id', 'name', 'food_group', 'food_subgroup']]\n",
        "food = food.dropna()\n",
        "\n",
        "compound = compound.replace('NA',np.nan)\n",
        "compound = compound[['id', 'name']]\n",
        "compound = compound.dropna()\n",
        "\n",
        "nutrient = nutrient.replace('NA',np.nan)\n",
        "nutrient = nutrient[['id', 'name']]\n",
        "nutrient = nutrient.dropna()\n",
        "\n",
        "content = content.replace('NA',np.nan)\n",
        "content = content[['source_id', 'source_type', 'food_id', 'orig_content', 'orig_unit']]\n",
        "content_compound = content[(content['source_type'] == 'Compound')]\n",
        "content_nutrient = content[(content['source_type'] == 'Nutrient')]\n",
        "content_compound = content_compound.dropna()\n",
        "content_nutrient = content_nutrient.dropna()\n",
        "\n",
        "health_effect = health_effect.replace('NA',np.nan)\n",
        "health_effect = health_effect[['id', 'name']]\n",
        "health_effect = health_effect.dropna()\n",
        "\n",
        "compounds_health_effect = compounds_health_effect.replace('NA',np.nan)\n",
        "compounds_health_effect = compounds_health_effect[['compound_id', 'health_effect_id']]\n",
        "compounds_health_effect = compounds_health_effect.dropna()\n",
        "\n",
        "flavor = flavor.replace('NA',np.nan)\n",
        "flavor = flavor[['id', 'name']]\n",
        "flavor = flavor.dropna()\n",
        "\n",
        "compounds_flavor = compounds_flavor.replace('NA',np.nan)\n",
        "compounds_flavor = compounds_flavor[['compound_id', 'flavor_id']]\n",
        "compounds_flavor = compounds_flavor.dropna()"
      ],
      "execution_count": null,
      "outputs": []
    },
    {
      "cell_type": "code",
      "metadata": {
        "id": "cLRrdI-5NjeC"
      },
      "source": [
        "content_compound = content_compound[content_compound.orig_content != 0]\n",
        "content_nutrient = content_nutrient[content_nutrient.orig_content != 0]\n",
        "content_compound = content_compound.drop_duplicates(subset=['source_id', 'food_id'])\n",
        "content_nutrient = content_nutrient.drop_duplicates(subset=['source_id', 'food_id'])"
      ],
      "execution_count": null,
      "outputs": []
    },
    {
      "cell_type": "code",
      "metadata": {
        "id": "zU6GZ-MLEjWm"
      },
      "source": [
        "#Food-Compound\n",
        "for i in range(len(food)):\n",
        "  food_id = food['id'].iloc[i]\n",
        "  food_name = food[food['id'] == food_id]['name'].iloc[0]\n",
        "  food_group = food[food['id'] == food_id]['food_group'].iloc[0]\n",
        "  food_subgroup = food[food['id'] == food_id]['food_subgroup'].iloc[0]\n",
        "  index = content_compound[content_compound['food_id'] == food_id].index\n",
        "  content_compound.at[index, 'food_name'] = food_name\n",
        "  content_compound.at[index, 'food_group'] = food_group\n",
        "  content_compound.at[index, 'food_subgroup'] = food_subgroup\n",
        "\n",
        "for i in range(len(compound)):\n",
        "  compound_id = compound['id'].iloc[i]\n",
        "  compound_name = compound[compound['id'] == compound_id]['name'].iloc[0]\n",
        "  index = content_compound[(content_compound['source_id'] == compound_id)].index\n",
        "  content_compound.at[index, 'source_name'] = compound_name"
      ],
      "execution_count": null,
      "outputs": []
    },
    {
      "cell_type": "code",
      "metadata": {
        "id": "umDF0XBC5LUg"
      },
      "source": [
        "#Food-Nutrient\n",
        "for i in range(len(food)):\n",
        "  food_id = food['id'].iloc[i]\n",
        "  food_name = food[food['id'] == food_id]['name'].iloc[0]\n",
        "  food_group = food[food['id'] == food_id]['food_group'].iloc[0]\n",
        "  food_subgroup = food[food['id'] == food_id]['food_subgroup'].iloc[0]\n",
        "  index = content_nutrient[content_nutrient['food_id'] == food_id].index\n",
        "  content_nutrient.at[index, 'food_name'] = food_name\n",
        "  content_nutrient.at[index, 'food_group'] = food_group\n",
        "  content_nutrient.at[index, 'food_subgroup'] = food_subgroup\n",
        "\n",
        "for i in range(len(nutrient)):\n",
        "  nutrient_id = nutrient['id'].iloc[i]\n",
        "  nutrient_name = nutrient[nutrient['id'] == nutrient_id]['name'].iloc[0]\n",
        "  index = content_nutrient[(content_nutrient['source_id'] == nutrient_id)].index\n",
        "  content_nutrient.at[index, 'source_name'] = nutrient_name"
      ],
      "execution_count": null,
      "outputs": []
    },
    {
      "cell_type": "code",
      "metadata": {
        "id": "4VU0drDTyHQP"
      },
      "source": [
        "#Compound-Health Effect\n",
        "for i in range(len(health_effect)):\n",
        "  health_effect_id = health_effect['id'].iloc[i]\n",
        "  health_effect_name = health_effect[health_effect['id'] == health_effect_id]['name'].iloc[0]\n",
        "  index = compounds_health_effect[compounds_health_effect['health_effect_id'] == health_effect_id].index\n",
        "  compounds_health_effect.at[index, 'health_effect_name'] = health_effect_name\n",
        "\n",
        "for i in range(len(compound)):\n",
        "  compound_id = compound['id'].iloc[i]\n",
        "  compound_name = compound[compound['id'] == compound_id]['name'].iloc[0]\n",
        "  index = compounds_health_effect[compounds_health_effect['compound_id'] == compound_id].index\n",
        "  compounds_health_effect.at[index, 'compound_name'] = compound_name"
      ],
      "execution_count": null,
      "outputs": []
    },
    {
      "cell_type": "code",
      "metadata": {
        "id": "JWK-1b8Zyilq"
      },
      "source": [
        "#Compound-Flavor\n",
        "for i in range(len(flavor)):\n",
        "  flavor_id = flavor['id'].iloc[i]\n",
        "  flavor_name = flavor[flavor['id'] == flavor_id]['name'].iloc[0]\n",
        "  index = compounds_flavor[compounds_flavor['flavor_id'] == flavor_id].index\n",
        "  compounds_flavor.at[index, 'flavor_name'] = flavor_name\n",
        "\n",
        "for i in range(len(compound)):\n",
        "  compound_id = compound['id'].iloc[i]\n",
        "  compound_name = compound[compound['id'] == compound_id]['name'].iloc[0]\n",
        "  index = compounds_flavor[compounds_flavor['compound_id'] == compound_id].index\n",
        "  compounds_flavor.at[index, 'compound_name'] = compound_name"
      ],
      "execution_count": null,
      "outputs": []
    },
    {
      "cell_type": "code",
      "metadata": {
        "id": "EsacOy1ZwtVF"
      },
      "source": [
        "content_compound.to_csv('content_compound.csv')\n",
        "content_nutrient.to_csv('content_nutrient.csv')\n",
        "compounds_health_effect.to_csv('compounds_health_effect.csv')\n",
        "compounds_flavor.to_csv('compounds_flavor.csv')"
      ],
      "execution_count": null,
      "outputs": []
    },
    {
      "cell_type": "code",
      "metadata": {
        "id": "r_KRh68TDqPM",
        "colab": {
          "base_uri": "https://localhost:8080/",
          "height": 17
        },
        "outputId": "413816f1-7078-4c68-c3fb-8cb5615dcc34"
      },
      "source": [
        "from google.colab import files\n",
        "files.download('content_compound.csv')\n",
        "files.download('content_nutrient.csv')\n",
        "files.download('compounds_health_effect.csv')\n",
        "files.download('compounds_flavor.csv')"
      ],
      "execution_count": null,
      "outputs": [
        {
          "output_type": "display_data",
          "data": {
            "application/javascript": [
              "\n",
              "    async function download(id, filename, size) {\n",
              "      if (!google.colab.kernel.accessAllowed) {\n",
              "        return;\n",
              "      }\n",
              "      const div = document.createElement('div');\n",
              "      const label = document.createElement('label');\n",
              "      label.textContent = `Downloading \"${filename}\": `;\n",
              "      div.appendChild(label);\n",
              "      const progress = document.createElement('progress');\n",
              "      progress.max = size;\n",
              "      div.appendChild(progress);\n",
              "      document.body.appendChild(div);\n",
              "\n",
              "      const buffers = [];\n",
              "      let downloaded = 0;\n",
              "\n",
              "      const channel = await google.colab.kernel.comms.open(id);\n",
              "      // Send a message to notify the kernel that we're ready.\n",
              "      channel.send({})\n",
              "\n",
              "      for await (const message of channel.messages) {\n",
              "        // Send a message to notify the kernel that we're ready.\n",
              "        channel.send({})\n",
              "        if (message.buffers) {\n",
              "          for (const buffer of message.buffers) {\n",
              "            buffers.push(buffer);\n",
              "            downloaded += buffer.byteLength;\n",
              "            progress.value = downloaded;\n",
              "          }\n",
              "        }\n",
              "      }\n",
              "      const blob = new Blob(buffers, {type: 'application/binary'});\n",
              "      const a = document.createElement('a');\n",
              "      a.href = window.URL.createObjectURL(blob);\n",
              "      a.download = filename;\n",
              "      div.appendChild(a);\n",
              "      a.click();\n",
              "      div.remove();\n",
              "    }\n",
              "  "
            ],
            "text/plain": [
              "<IPython.core.display.Javascript object>"
            ]
          },
          "metadata": {
            "tags": []
          }
        },
        {
          "output_type": "display_data",
          "data": {
            "application/javascript": [
              "download(\"download_2260d42f-8b10-4701-ada8-5f10c7221712\", \"content_compound.csv\", 4668987)"
            ],
            "text/plain": [
              "<IPython.core.display.Javascript object>"
            ]
          },
          "metadata": {
            "tags": []
          }
        },
        {
          "output_type": "display_data",
          "data": {
            "application/javascript": [
              "\n",
              "    async function download(id, filename, size) {\n",
              "      if (!google.colab.kernel.accessAllowed) {\n",
              "        return;\n",
              "      }\n",
              "      const div = document.createElement('div');\n",
              "      const label = document.createElement('label');\n",
              "      label.textContent = `Downloading \"${filename}\": `;\n",
              "      div.appendChild(label);\n",
              "      const progress = document.createElement('progress');\n",
              "      progress.max = size;\n",
              "      div.appendChild(progress);\n",
              "      document.body.appendChild(div);\n",
              "\n",
              "      const buffers = [];\n",
              "      let downloaded = 0;\n",
              "\n",
              "      const channel = await google.colab.kernel.comms.open(id);\n",
              "      // Send a message to notify the kernel that we're ready.\n",
              "      channel.send({})\n",
              "\n",
              "      for await (const message of channel.messages) {\n",
              "        // Send a message to notify the kernel that we're ready.\n",
              "        channel.send({})\n",
              "        if (message.buffers) {\n",
              "          for (const buffer of message.buffers) {\n",
              "            buffers.push(buffer);\n",
              "            downloaded += buffer.byteLength;\n",
              "            progress.value = downloaded;\n",
              "          }\n",
              "        }\n",
              "      }\n",
              "      const blob = new Blob(buffers, {type: 'application/binary'});\n",
              "      const a = document.createElement('a');\n",
              "      a.href = window.URL.createObjectURL(blob);\n",
              "      a.download = filename;\n",
              "      div.appendChild(a);\n",
              "      a.click();\n",
              "      div.remove();\n",
              "    }\n",
              "  "
            ],
            "text/plain": [
              "<IPython.core.display.Javascript object>"
            ]
          },
          "metadata": {
            "tags": []
          }
        },
        {
          "output_type": "display_data",
          "data": {
            "application/javascript": [
              "download(\"download_308838af-95f9-4298-8c42-a326135bedd6\", \"content_nutrient.csv\", 772945)"
            ],
            "text/plain": [
              "<IPython.core.display.Javascript object>"
            ]
          },
          "metadata": {
            "tags": []
          }
        },
        {
          "output_type": "display_data",
          "data": {
            "application/javascript": [
              "\n",
              "    async function download(id, filename, size) {\n",
              "      if (!google.colab.kernel.accessAllowed) {\n",
              "        return;\n",
              "      }\n",
              "      const div = document.createElement('div');\n",
              "      const label = document.createElement('label');\n",
              "      label.textContent = `Downloading \"${filename}\": `;\n",
              "      div.appendChild(label);\n",
              "      const progress = document.createElement('progress');\n",
              "      progress.max = size;\n",
              "      div.appendChild(progress);\n",
              "      document.body.appendChild(div);\n",
              "\n",
              "      const buffers = [];\n",
              "      let downloaded = 0;\n",
              "\n",
              "      const channel = await google.colab.kernel.comms.open(id);\n",
              "      // Send a message to notify the kernel that we're ready.\n",
              "      channel.send({})\n",
              "\n",
              "      for await (const message of channel.messages) {\n",
              "        // Send a message to notify the kernel that we're ready.\n",
              "        channel.send({})\n",
              "        if (message.buffers) {\n",
              "          for (const buffer of message.buffers) {\n",
              "            buffers.push(buffer);\n",
              "            downloaded += buffer.byteLength;\n",
              "            progress.value = downloaded;\n",
              "          }\n",
              "        }\n",
              "      }\n",
              "      const blob = new Blob(buffers, {type: 'application/binary'});\n",
              "      const a = document.createElement('a');\n",
              "      a.href = window.URL.createObjectURL(blob);\n",
              "      a.download = filename;\n",
              "      div.appendChild(a);\n",
              "      a.click();\n",
              "      div.remove();\n",
              "    }\n",
              "  "
            ],
            "text/plain": [
              "<IPython.core.display.Javascript object>"
            ]
          },
          "metadata": {
            "tags": []
          }
        },
        {
          "output_type": "display_data",
          "data": {
            "application/javascript": [
              "download(\"download_660ab699-41c1-4386-9629-d95b0bbdebd0\", \"compounds_health_effect.csv\", 458012)"
            ],
            "text/plain": [
              "<IPython.core.display.Javascript object>"
            ]
          },
          "metadata": {
            "tags": []
          }
        },
        {
          "output_type": "display_data",
          "data": {
            "application/javascript": [
              "\n",
              "    async function download(id, filename, size) {\n",
              "      if (!google.colab.kernel.accessAllowed) {\n",
              "        return;\n",
              "      }\n",
              "      const div = document.createElement('div');\n",
              "      const label = document.createElement('label');\n",
              "      label.textContent = `Downloading \"${filename}\": `;\n",
              "      div.appendChild(label);\n",
              "      const progress = document.createElement('progress');\n",
              "      progress.max = size;\n",
              "      div.appendChild(progress);\n",
              "      document.body.appendChild(div);\n",
              "\n",
              "      const buffers = [];\n",
              "      let downloaded = 0;\n",
              "\n",
              "      const channel = await google.colab.kernel.comms.open(id);\n",
              "      // Send a message to notify the kernel that we're ready.\n",
              "      channel.send({})\n",
              "\n",
              "      for await (const message of channel.messages) {\n",
              "        // Send a message to notify the kernel that we're ready.\n",
              "        channel.send({})\n",
              "        if (message.buffers) {\n",
              "          for (const buffer of message.buffers) {\n",
              "            buffers.push(buffer);\n",
              "            downloaded += buffer.byteLength;\n",
              "            progress.value = downloaded;\n",
              "          }\n",
              "        }\n",
              "      }\n",
              "      const blob = new Blob(buffers, {type: 'application/binary'});\n",
              "      const a = document.createElement('a');\n",
              "      a.href = window.URL.createObjectURL(blob);\n",
              "      a.download = filename;\n",
              "      div.appendChild(a);\n",
              "      a.click();\n",
              "      div.remove();\n",
              "    }\n",
              "  "
            ],
            "text/plain": [
              "<IPython.core.display.Javascript object>"
            ]
          },
          "metadata": {
            "tags": []
          }
        },
        {
          "output_type": "display_data",
          "data": {
            "application/javascript": [
              "download(\"download_070981ee-7c86-4161-8c17-285e925ad860\", \"compounds_flavor.csv\", 473194)"
            ],
            "text/plain": [
              "<IPython.core.display.Javascript object>"
            ]
          },
          "metadata": {
            "tags": []
          }
        }
      ]
    }
  ]
}