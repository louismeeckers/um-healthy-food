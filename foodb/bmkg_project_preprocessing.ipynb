{
 "cells": [
  {
   "cell_type": "code",
   "execution_count": 1,
   "metadata": {
    "colab": {
     "base_uri": "https://localhost:8080/"
    },
    "id": "W0NIf5EjMduq",
    "outputId": "9960fd7d-6b04-401d-e62c-809453a3d76c"
   },
   "outputs": [],
   "source": [
    "import pandas as pd\n",
    "import numpy as np\n",
    "import matplotlib.pyplot as plt\n",
    "import json"
   ]
  },
  {
   "cell_type": "markdown",
   "metadata": {
    "id": "-rQSER1hMxND"
   },
   "source": [
    "# **Data**"
   ]
  },
  {
   "cell_type": "code",
   "execution_count": 2,
   "metadata": {
    "colab": {
     "base_uri": "https://localhost:8080/"
    },
    "id": "HEMYeLxPMriN",
    "outputId": "a79bb391-190e-4783-944b-0d0295f805a2"
   },
   "outputs": [
    {
     "name": "stderr",
     "output_type": "stream",
     "text": [
      "C:\\Users\\julie\\anaconda3\\lib\\site-packages\\IPython\\core\\interactiveshell.py:3146: DtypeWarning: Columns (3,4,5,6,12,13,14,15) have mixed types.Specify dtype option on import or set low_memory=False.\n",
      "  has_raised = await self.run_ast_nodes(code_ast.body, cell_name,\n",
      "C:\\Users\\julie\\anaconda3\\lib\\site-packages\\IPython\\core\\interactiveshell.py:3146: DtypeWarning: Columns (4,5,6,7,8,9,13,14,21,22,24) have mixed types.Specify dtype option on import or set low_memory=False.\n",
      "  has_raised = await self.run_ast_nodes(code_ast.body, cell_name,\n"
     ]
    }
   ],
   "source": [
    "food = pd.read_csv('Food.csv')\n",
    "compound = pd.read_csv('Compound.csv')\n",
    "nutrient = pd.read_csv('Nutrient.csv')\n",
    "content = pd.read_csv('Content.csv')\n",
    "health_effect = pd.read_csv('HealthEffect.csv')\n",
    "compounds_health_effect = pd.read_csv('CompoundsHealthEffect.csv')\n",
    "flavor = pd.read_csv('Flavor.csv')\n",
    "compounds_flavor = pd.read_csv('CompoundsFlavor.csv')"
   ]
  },
  {
   "cell_type": "code",
   "execution_count": 3,
   "metadata": {
    "id": "_sGmvq4KPCO0"
   },
   "outputs": [],
   "source": [
    "food = food.replace('NA',np.nan)\n",
    "food = food[['id', 'name', 'food_group', 'food_subgroup']]\n",
    "food = food.dropna()\n",
    "\n",
    "compound = compound.replace('NA',np.nan)\n",
    "compound = compound[['id', 'name']]\n",
    "compound = compound.dropna()\n",
    "\n",
    "nutrient = nutrient.replace('NA',np.nan)\n",
    "nutrient = nutrient[['id', 'name']]\n",
    "nutrient = nutrient.dropna()\n",
    "\n",
    "content = content.replace('NA',np.nan)\n",
    "content = content[['source_id', 'source_type', 'food_id', 'orig_content', 'orig_unit']]\n",
    "content_compound = content[(content['source_type'] == 'Compound')]\n",
    "content_nutrient = content[(content['source_type'] == 'Nutrient')]\n",
    "content_compound = content_compound.dropna()\n",
    "content_nutrient = content_nutrient.dropna()\n",
    "\n",
    "health_effect = health_effect.replace('NA',np.nan)\n",
    "health_effect = health_effect[['id', 'name']]\n",
    "health_effect = health_effect.dropna()\n",
    "\n",
    "compounds_health_effect = compounds_health_effect.replace('NA',np.nan)\n",
    "compounds_health_effect = compounds_health_effect[['compound_id', 'health_effect_id']]\n",
    "compounds_health_effect = compounds_health_effect.dropna()\n",
    "\n",
    "flavor = flavor.replace('NA',np.nan)\n",
    "flavor = flavor[['id', 'name']]\n",
    "flavor = flavor.dropna()\n",
    "\n",
    "compounds_flavor = compounds_flavor.replace('NA',np.nan)\n",
    "compounds_flavor = compounds_flavor[['compound_id', 'flavor_id']]\n",
    "compounds_flavor = compounds_flavor.dropna()"
   ]
  },
  {
   "cell_type": "code",
   "execution_count": 4,
   "metadata": {
    "id": "cLRrdI-5NjeC"
   },
   "outputs": [],
   "source": [
    "content_compound = content_compound[content_compound.orig_content != 0]\n",
    "content_nutrient = content_nutrient[content_nutrient.orig_content != 0]\n",
    "content_compound = content_compound.drop_duplicates(subset=['source_id', 'food_id'])\n",
    "content_nutrient = content_nutrient.drop_duplicates(subset=['source_id', 'food_id'])"
   ]
  },
  {
   "cell_type": "code",
   "execution_count": 5,
   "metadata": {
    "id": "zU6GZ-MLEjWm"
   },
   "outputs": [],
   "source": [
    "#Food-Compound\n",
    "for i in range(len(food)):\n",
    "  food_id = food['id'].iloc[i]\n",
    "  food_name = food[food['id'] == food_id]['name'].iloc[0]\n",
    "  food_group = food[food['id'] == food_id]['food_group'].iloc[0]\n",
    "  food_subgroup = food[food['id'] == food_id]['food_subgroup'].iloc[0]\n",
    "  index = content_compound[content_compound['food_id'] == food_id].index\n",
    "  content_compound.at[index, 'food_name'] = food_name\n",
    "  content_compound.at[index, 'food_group'] = food_group\n",
    "  content_compound.at[index, 'food_subgroup'] = food_subgroup\n",
    "\n",
    "for i in range(len(compound)):\n",
    "  compound_id = compound['id'].iloc[i]\n",
    "  compound_name = compound[compound['id'] == compound_id]['name'].iloc[0]\n",
    "  index = content_compound[(content_compound['source_id'] == compound_id)].index\n",
    "  content_compound.at[index, 'source_name'] = compound_name"
   ]
  },
  {
   "cell_type": "code",
   "execution_count": 6,
   "metadata": {
    "id": "umDF0XBC5LUg"
   },
   "outputs": [],
   "source": [
    "#Food-Nutrient\n",
    "for i in range(len(food)):\n",
    "  food_id = food['id'].iloc[i]\n",
    "  food_name = food[food['id'] == food_id]['name'].iloc[0]\n",
    "  food_group = food[food['id'] == food_id]['food_group'].iloc[0]\n",
    "  food_subgroup = food[food['id'] == food_id]['food_subgroup'].iloc[0]\n",
    "  index = content_nutrient[content_nutrient['food_id'] == food_id].index\n",
    "  content_nutrient.at[index, 'food_name'] = food_name\n",
    "  content_nutrient.at[index, 'food_group'] = food_group\n",
    "  content_nutrient.at[index, 'food_subgroup'] = food_subgroup\n",
    "\n",
    "for i in range(len(nutrient)):\n",
    "  nutrient_id = nutrient['id'].iloc[i]\n",
    "  nutrient_name = nutrient[nutrient['id'] == nutrient_id]['name'].iloc[0]\n",
    "  index = content_nutrient[(content_nutrient['source_id'] == nutrient_id)].index\n",
    "  content_nutrient.at[index, 'source_name'] = nutrient_name"
   ]
  },
  {
   "cell_type": "code",
   "execution_count": 7,
   "metadata": {
    "id": "4VU0drDTyHQP"
   },
   "outputs": [],
   "source": [
    "#Compound-Health Effect\n",
    "for i in range(len(health_effect)):\n",
    "  health_effect_id = health_effect['id'].iloc[i]\n",
    "  health_effect_name = health_effect[health_effect['id'] == health_effect_id]['name'].iloc[0]\n",
    "  index = compounds_health_effect[compounds_health_effect['health_effect_id'] == health_effect_id].index\n",
    "  compounds_health_effect.at[index, 'health_effect_name'] = health_effect_name\n",
    "\n",
    "for i in range(len(compound)):\n",
    "  compound_id = compound['id'].iloc[i]\n",
    "  compound_name = compound[compound['id'] == compound_id]['name'].iloc[0]\n",
    "  index = compounds_health_effect[compounds_health_effect['compound_id'] == compound_id].index\n",
    "  compounds_health_effect.at[index, 'compound_name'] = compound_name"
   ]
  },
  {
   "cell_type": "code",
   "execution_count": 8,
   "metadata": {
    "id": "JWK-1b8Zyilq"
   },
   "outputs": [],
   "source": [
    "#Compound-Flavor\n",
    "for i in range(len(flavor)):\n",
    "  flavor_id = flavor['id'].iloc[i]\n",
    "  flavor_name = flavor[flavor['id'] == flavor_id]['name'].iloc[0]\n",
    "  index = compounds_flavor[compounds_flavor['flavor_id'] == flavor_id].index\n",
    "  compounds_flavor.at[index, 'flavor_name'] = flavor_name\n",
    "\n",
    "for i in range(len(compound)):\n",
    "  compound_id = compound['id'].iloc[i]\n",
    "  compound_name = compound[compound['id'] == compound_id]['name'].iloc[0]\n",
    "  index = compounds_flavor[compounds_flavor['compound_id'] == compound_id].index\n",
    "  compounds_flavor.at[index, 'compound_name'] = compound_name"
   ]
  },
  {
   "cell_type": "markdown",
   "metadata": {
    "id": "gWNntBHHjrIx"
   },
   "source": [
    "# **Nutri-Scores**"
   ]
  },
  {
   "cell_type": "markdown",
   "metadata": {
    "id": "fl1Q6NN_s5b8"
   },
   "source": [
    "Preprocessing that needs to be done to compute the Nutri-Scores:\n",
    "\n",
    "- convert mg/100g to g/100g\n",
    "\n",
    "- convert kcal/100g to kJ/100g\n",
    "\n",
    "- EXCEPT SODIUM !!!"
   ]
  },
  {
   "cell_type": "code",
   "execution_count": 9,
   "metadata": {
    "id": "XGNuo0jPr1Ga"
   },
   "outputs": [],
   "source": [
    "content_nutrient.orig_unit = content_nutrient.orig_unit.replace('mg/100 g', 'mg/100g')\n",
    "content_compound.orig_unit = content_compound.orig_unit.replace('mg/100 g', 'mg/100g')"
   ]
  },
  {
   "cell_type": "code",
   "execution_count": 10,
   "metadata": {
    "colab": {
     "base_uri": "https://localhost:8080/"
    },
    "id": "DxF2BxA8ty3B",
    "outputId": "4b6bd77f-ad93-4dc1-8b62-9d116d554abe"
   },
   "outputs": [
    {
     "name": "stderr",
     "output_type": "stream",
     "text": [
      "C:\\Users\\julie\\anaconda3\\lib\\site-packages\\pandas\\core\\indexing.py:670: SettingWithCopyWarning: \n",
      "A value is trying to be set on a copy of a slice from a DataFrame\n",
      "\n",
      "See the caveats in the documentation: https://pandas.pydata.org/pandas-docs/stable/user_guide/indexing.html#returning-a-view-versus-a-copy\n",
      "  iloc._setitem_with_indexer(indexer, value)\n"
     ]
    }
   ],
   "source": [
    "for i in range(len(content_nutrient)):\n",
    "  if content_nutrient['orig_unit'].iloc[i] == 'mg/100g':\n",
    "    content_nutrient['orig_content'].iloc[i] /= 1000\n",
    "    content_nutrient['orig_unit'].iloc[i] = 'g/100g'\n",
    "  elif content_nutrient['orig_unit'].iloc[i] == 'kcal/100g':\n",
    "    content_nutrient['orig_content'].iloc[i] *= 4.184\n",
    "    content_nutrient['orig_unit'].iloc[i] = 'kJ/100g'"
   ]
  },
  {
   "cell_type": "code",
   "execution_count": 11,
   "metadata": {
    "colab": {
     "base_uri": "https://localhost:8080/"
    },
    "id": "KYuJDc70Uvxv",
    "outputId": "f447bd03-da44-4979-ac12-f2023cad0f52"
   },
   "outputs": [
    {
     "data": {
      "text/plain": [
       "array(['g/100g', 'kJ/100g'], dtype=object)"
      ]
     },
     "execution_count": 11,
     "metadata": {},
     "output_type": "execute_result"
    }
   ],
   "source": [
    "target = [2, 3, 4, 5, 38]\n",
    "content_nutrient[content_nutrient['source_id'].isin(target)]['orig_unit'].unique()"
   ]
  },
  {
   "cell_type": "code",
   "execution_count": 12,
   "metadata": {
    "colab": {
     "base_uri": "https://localhost:8080/"
    },
    "id": "WzOay4FhU5Hs",
    "outputId": "5fe604fe-157a-4743-a0f3-bc20e223378e"
   },
   "outputs": [
    {
     "data": {
      "text/plain": [
       "array(['mg/100g'], dtype=object)"
      ]
     },
     "execution_count": 12,
     "metadata": {},
     "output_type": "execute_result"
    }
   ],
   "source": [
    "target = [3524]\n",
    "content_compound[content_compound['source_id'].isin(target)]['orig_unit'].unique()"
   ]
  },
  {
   "cell_type": "code",
   "execution_count": 13,
   "metadata": {
    "id": "z_4e9t8EquXj"
   },
   "outputs": [],
   "source": [
    "def scoreEnergy(energy):\n",
    "  if energy <= 335:\n",
    "    return 0\n",
    "  elif energy > 3350:\n",
    "    return 10\n",
    "  elif energy > 3015:\n",
    "    return 9\n",
    "  elif energy > 2680:\n",
    "    return 8\n",
    "  elif energy > 2345:\n",
    "    return 7\n",
    "  elif energy > 2010:\n",
    "    return 6\n",
    "  elif energy > 1675:\n",
    "    return 5\n",
    "  elif energy > 1340:\n",
    "    return 4\n",
    "  elif energy > 1005:\n",
    "    return 3\n",
    "  elif energy > 670:\n",
    "    return 2\n",
    "  elif energy > 335:\n",
    "    return 1\n",
    "\n",
    "def scoreSugar(carbohydrates, fibers):\n",
    "  sugar = carbohydrates - fibers\n",
    "  if sugar <= 4.5:\n",
    "    return 0\n",
    "  elif sugar > 45:\n",
    "    return 10\n",
    "  elif sugar > 40:\n",
    "    return 9\n",
    "  elif sugar > 36:\n",
    "    return 8\n",
    "  elif sugar > 31:\n",
    "    return 7\n",
    "  elif sugar > 27:\n",
    "    return 6\n",
    "  elif sugar > 22.5:\n",
    "    return 5\n",
    "  elif sugar > 18:\n",
    "    return 4\n",
    "  elif sugar > 13.5:\n",
    "    return 3\n",
    "  elif sugar > 9:\n",
    "    return 2\n",
    "  elif sugar > 4.5:\n",
    "    return 1\n",
    "\n",
    "def scoreSaturatedFattyAcis(saturatedFattyAcids):\n",
    "  if saturatedFattyAcids <= 1:\n",
    "    return 0\n",
    "  elif saturatedFattyAcids > 10:\n",
    "    return 10\n",
    "  elif saturatedFattyAcids > 9:\n",
    "    return 9\n",
    "  elif saturatedFattyAcids > 8:\n",
    "    return 8\n",
    "  elif saturatedFattyAcids > 7:\n",
    "    return 7\n",
    "  elif saturatedFattyAcids > 6:\n",
    "    return 6\n",
    "  elif saturatedFattyAcids > 5:\n",
    "    return 5\n",
    "  elif saturatedFattyAcids > 4:\n",
    "    return 4\n",
    "  elif saturatedFattyAcids > 3:\n",
    "    return 3\n",
    "  elif saturatedFattyAcids > 2:\n",
    "    return 2\n",
    "  elif saturatedFattyAcids > 1:\n",
    "    return 1\n",
    "\n",
    "def scoreSodium(sodium):\n",
    "  if sodium <= 90:\n",
    "    return 0\n",
    "  elif sodium > 900:\n",
    "    return 10\n",
    "  elif sodium > 810:\n",
    "    return 9\n",
    "  elif sodium > 720:\n",
    "    return 8\n",
    "  elif sodium > 630:\n",
    "    return 7\n",
    "  elif sodium > 540:\n",
    "    return 6\n",
    "  elif sodium > 450:\n",
    "    return 5\n",
    "  elif sodium > 360:\n",
    "    return 4\n",
    "  elif sodium > 270:\n",
    "    return 3\n",
    "  elif sodium > 180:\n",
    "    return 2\n",
    "  elif sodium > 90:\n",
    "    return 1\n",
    "\n",
    "def scoreFibers(fibers):\n",
    "  if fibers <= 0.9:\n",
    "    return 0\n",
    "  elif fibers > 4.7:\n",
    "    return -5\n",
    "  elif fibers > 3.7:\n",
    "    return -4\n",
    "  elif fibers > 2.8:\n",
    "    return -3\n",
    "  elif fibers > 1.9:\n",
    "    return -2\n",
    "  elif fibers > 0.9:\n",
    "    return -1\n",
    "\n",
    "def scoreProteins(proteins):\n",
    "  if proteins <= 1.6:\n",
    "    return 0\n",
    "  elif proteins > 8:\n",
    "    return -5\n",
    "  elif proteins > 6.4:\n",
    "    return -4\n",
    "  elif proteins > 4.8:\n",
    "    return -3\n",
    "  elif proteins > 3.2:\n",
    "    return -2\n",
    "  elif proteins > 1.6:\n",
    "    return -1\n",
    "\n",
    "def nutriScoreFoods(nutri_score):\n",
    "  if nutri_score >= -15 and nutri_score <= -1:\n",
    "    return 'A'\n",
    "  elif nutri_score >= 0 and nutri_score <= 2:\n",
    "    return 'B'\n",
    "  elif nutri_score >= 3 and nutri_score <= 10:\n",
    "    return 'C'\n",
    "  elif nutri_score >= 11 and nutri_score <= 18:\n",
    "    return 'D'\n",
    "  elif nutri_score >= 19 and nutri_score <= 40:\n",
    "    return 'E'\n",
    "\n",
    "def nutriScoreBeverages(nutri_score):\n",
    "  if nutri_score <= 1:\n",
    "    return 'B'\n",
    "  elif nutri_score >= 2 and nutri_score <= 5:\n",
    "    return 'C'\n",
    "  elif nutri_score >= 6 and nutri_score <= 9:\n",
    "    return 'D'\n",
    "  elif nutri_score >= 10 and nutri_score <= 40:\n",
    "    return 'E'"
   ]
  },
  {
   "cell_type": "code",
   "execution_count": 14,
   "metadata": {
    "id": "djnLlEHE4UQN"
   },
   "outputs": [],
   "source": [
    "#add sodium score\n",
    "target_sodium_id = [3524]\n",
    "for i in range(len(food)):\n",
    "  food_id = food['id'].iloc[i]\n",
    "  index = content_compound[content_compound['food_id'] == food_id].index\n",
    "  df_sodium = content_compound.loc[index]\n",
    "  df_sodium = df_sodium[df_sodium['source_id'].isin(target_sodium_id)]\n",
    "  if len(df_sodium) == 0:\n",
    "    continue\n",
    "  score = scoreSodium(df_sodium.orig_content.iloc[0])\n",
    "  content_compound.at[df_sodium.index, 'score'] = score"
   ]
  },
  {
   "cell_type": "code",
   "execution_count": 15,
   "metadata": {
    "id": "tCRHbgrw4vcn"
   },
   "outputs": [],
   "source": [
    "target_protein_id = [2]\n",
    "target_carbohydrate_id = [3]\n",
    "target_fatty_acics_id = [4]\n",
    "target_fiber_id = [5]\n",
    "target_energy = [38]\n",
    "for i in range(len(food)):\n",
    "  food_id = food['id'].iloc[i]\n",
    "  index = content_nutrient[content_nutrient['food_id'] == food_id].index\n",
    "  df = content_nutrient.loc[index]\n",
    "\n",
    "  #add protein score\n",
    "  df_protein = df[df['source_id'].isin(target_protein_id)]\n",
    "  if len(df_protein) == 0:\n",
    "    continue\n",
    "  score = scoreProteins(df_protein.orig_content.iloc[0])\n",
    "  content_nutrient.at[df_protein.index, 'score'] = score\n",
    "\n",
    "  #add sugar score\n",
    "  df_carbohydrate = df[df['source_id'].isin(target_carbohydrate_id)]\n",
    "  df_fiber = df[df['source_id'].isin(target_fiber_id)]\n",
    "  if len(df_carbohydrate) == 0:\n",
    "    continue\n",
    "  if len(df_fiber) == 0:\n",
    "    continue\n",
    "  score = scoreSugar(df_carbohydrate.orig_content.iloc[0], df_fiber.orig_content.iloc[0])\n",
    "  content_nutrient.at[df_carbohydrate.index, 'score'] = score\n",
    "\n",
    "  #add fatty acids score\n",
    "  df_fatty_acids = df[df['source_id'].isin(target_fatty_acics_id)]\n",
    "  if len(df_fatty_acids) == 0:\n",
    "    continue\n",
    "  score = scoreSaturatedFattyAcis(df_fatty_acids.orig_content.iloc[0])\n",
    "  content_nutrient.at[df_fatty_acids.index, 'score'] = score\n",
    "\n",
    "  #add fiber score\n",
    "  df_fiber = df[df['source_id'].isin(target_fiber_id)]\n",
    "  if len(df_fiber) == 0:\n",
    "    continue\n",
    "  score = scoreFibers(df_fiber.orig_content.iloc[0])\n",
    "  content_nutrient.at[df_fiber.index, 'score'] = score\n",
    "\n",
    "  #add energy score\n",
    "  df_energy = df[df['source_id'].isin(target_energy)]\n",
    "  if len(df_energy) == 0:\n",
    "    continue\n",
    "  score = scoreEnergy(df_energy.orig_content.iloc[0])\n",
    "  content_nutrient.at[df_energy.index, 'score'] = score"
   ]
  },
  {
   "cell_type": "code",
   "execution_count": 16,
   "metadata": {
    "id": "F0XdC4Dp8J7U"
   },
   "outputs": [],
   "source": [
    "#add Nutri-Score\n",
    "target_nutrient_id = [2,3,4,5,38]\n",
    "temp_nutrient = content_nutrient[content_nutrient['source_id'].isin(target_nutrient_id)]\n",
    "\n",
    "target_compound_id = [3524]\n",
    "temp_compound = content_compound[content_compound['source_id'].isin(target_compound_id)]\n",
    "\n",
    "for i in range(len(food)):\n",
    "  food_id = food['id'].iloc[i]\n",
    "  food_group = food['food_group'].iloc[i]\n",
    "  food_subgroup = food['food_subgroup'].iloc[i]\n",
    "  index_nutrient = content_nutrient[content_nutrient['food_id'] == food_id].index\n",
    "  index_compound = content_compound[content_compound['food_id'] == food_id].index\n",
    "\n",
    "  temp_index_nutrient = temp_nutrient[temp_nutrient['food_id'] == food_id].index\n",
    "  temp_index_compound = temp_compound[temp_compound['food_id'] == food_id].index\n",
    "  df_nutrient = temp_nutrient.loc[temp_index_nutrient]\n",
    "  df_compound = temp_compound.loc[temp_index_compound]\n",
    "  df = pd.concat([df_nutrient, df_compound])\n",
    "  nutri_score = df['score'].sum(axis = 0)\n",
    "\n",
    "  if food_subgroup == 'Waters':\n",
    "    nutri_score_category = 'A'\n",
    "  elif food_group == 'Beverages':\n",
    "    nutri_score_category = nutriScoreBeverages(nutri_score)\n",
    "  else:\n",
    "    nutri_score_category = nutriScoreFoods(nutri_score)\n",
    "\n",
    "  content_nutrient.at[index_nutrient, 'nutri_score'] = nutri_score\n",
    "  content_compound.at[index_compound, 'nutri_score'] = nutri_score\n",
    "  content_nutrient.at[index_nutrient, 'nutri_score_category'] = nutri_score_category\n",
    "  content_compound.at[index_compound, 'nutri_score_category'] = nutri_score_category"
   ]
  },
  {
   "cell_type": "code",
   "execution_count": 17,
   "metadata": {
    "id": "E5thrZDdKY6t"
   },
   "outputs": [],
   "source": [
    "content_nutrient = content_nutrient[content_nutrient['food_name'].notna()]\n",
    "content_compound = content_compound[content_compound['food_name'].notna()]"
   ]
  },
  {
   "cell_type": "code",
   "execution_count": 18,
   "metadata": {
    "id": "rHEAcwpKsGr6"
   },
   "outputs": [],
   "source": [
    "compounds_health_effect.index.name = 'content_id'\n",
    "compounds_flavor.index.name = 'content_id'"
   ]
  },
  {
   "cell_type": "code",
   "execution_count": 19,
   "metadata": {
    "id": "d-oGDQrah4fD"
   },
   "outputs": [],
   "source": [
    "content_nutrient.insert(0, 'content_id', content_nutrient.index)\n",
    "content_compound.insert(0, 'content_id', content_compound.index)"
   ]
  },
  {
   "cell_type": "markdown",
   "metadata": {
    "id": "a0UdKlXptNmx"
   },
   "source": [
    "# **Tags**"
   ]
  },
  {
   "cell_type": "code",
   "execution_count": 20,
   "metadata": {
    "id": "1pJkPDONtTuG"
   },
   "outputs": [],
   "source": [
    "#mg/day\n",
    "rdi_sodium = 2000\n",
    "rdi_potassium = 2000\n",
    "rdi_calcium = 800\n",
    "rdi_iron = 14\n",
    "rdi_phosphorus = 700"
   ]
  },
  {
   "cell_type": "code",
   "execution_count": 21,
   "metadata": {
    "colab": {
     "base_uri": "https://localhost:8080/"
    },
    "id": "jM9ASwdtLcfC",
    "outputId": "ddb840fa-9d49-411b-fcc7-b308f5b1efe9"
   },
   "outputs": [
    {
     "data": {
      "text/plain": [
       "array(['mg/100g'], dtype=object)"
      ]
     },
     "execution_count": 21,
     "metadata": {},
     "output_type": "execute_result"
    }
   ],
   "source": [
    "target = [3524, 3522, 3514, 16258, 3521]\n",
    "content_compound[content_compound['source_id'].isin(target)]['orig_unit'].unique()"
   ]
  },
  {
   "cell_type": "code",
   "execution_count": 22,
   "metadata": {
    "colab": {
     "base_uri": "https://localhost:8080/"
    },
    "id": "ARMH9PYj9lKh",
    "outputId": "4e24dfc8-f841-4da8-a229-837358383922"
   },
   "outputs": [
    {
     "data": {
      "text/plain": [
       "array(['Calcium', 'Iron', 'Sodium', 'Potassium', 'Phosphorus'],\n",
       "      dtype=object)"
      ]
     },
     "execution_count": 22,
     "metadata": {},
     "output_type": "execute_result"
    }
   ],
   "source": [
    "content_compound[content_compound['source_id'].isin(target)]['source_name'].unique()"
   ]
  },
  {
   "cell_type": "code",
   "execution_count": 23,
   "metadata": {
    "id": "vSkJPBCYumvi"
   },
   "outputs": [],
   "source": [
    "target_sodium_id = [3524]\n",
    "target_potassium_id = [3522]\n",
    "target_calcium_id = [3514]\n",
    "target_iron_id = [16258]\n",
    "target_phosphorus_id = [3521]\n",
    "\n",
    "for i in range(len(food)):\n",
    "  food_id = food['id'].iloc[i]\n",
    "  index_nutrient = content_nutrient[content_nutrient['food_id'] == food_id].index\n",
    "  index_compound = content_compound[content_compound['food_id'] == food_id].index\n",
    "  df = content_compound.loc[index_compound]\n",
    "\n",
    "  if len(df) == 0:\n",
    "    continue\n",
    "  \n",
    "  df_sodium = df[df['source_id'].isin(target_sodium_id)]\n",
    "  if len(df_sodium) != 0 and df_sodium['orig_content'].iloc[0]/rdi_sodium > 0.3:\n",
    "    sodium = 'high_sodium'\n",
    "  elif len(df_sodium) == 0 or df_sodium['orig_content'].iloc[0]/rdi_sodium <= 0.3: \n",
    "    sodium = np.nan\n",
    "\n",
    "  df_potassium = df[df['source_id'].isin(target_potassium_id)]\n",
    "  if len(df_potassium) != 0 and df_potassium['orig_content'].iloc[0]/rdi_potassium > 0.3:\n",
    "    potassium = 'high_potassium'\n",
    "  elif len(df_potassium) == 0 or df_potassium['orig_content'].iloc[0]/rdi_potassium <= 0.3: \n",
    "    potassium = np.nan\n",
    "\n",
    "  df_calcium = df[df['source_id'].isin(target_calcium_id)]\n",
    "  if len(df_calcium) != 0 and df_calcium['orig_content'].iloc[0]/rdi_calcium > 0.3:\n",
    "    calcium = 'high_calcium'\n",
    "  elif len(df_calcium) == 0 or df_calcium['orig_content'].iloc[0]/rdi_calcium <= 0.3: \n",
    "    calcium = np.nan\n",
    "\n",
    "  df_iron = df[df['source_id'].isin(target_iron_id)]\n",
    "  if len(df_iron) != 0 and df_iron['orig_content'].iloc[0]/rdi_iron > 0.3:\n",
    "    iron = 'high_iron'\n",
    "  elif len(df_iron) == 0 or df_iron['orig_content'].iloc[0]/rdi_iron <= 0.3: \n",
    "    iron = np.nan\n",
    "\n",
    "  df_phosphorus = df[df['source_id'].isin(target_phosphorus_id)]\n",
    "  if len(df_phosphorus) != 0 and df_phosphorus['orig_content'].iloc[0]/rdi_phosphorus > 0.3:\n",
    "    phosphorus = 'high_phosphorus'\n",
    "  elif len(df_phosphorus) == 0 or df_phosphorus['orig_content'].iloc[0]/rdi_phosphorus <= 0.3: \n",
    "    phosphorus = np.nan\n",
    "\n",
    "  content_nutrient.at[index_nutrient, 'sodium'] = sodium\n",
    "  content_compound.at[index_compound, 'sodium'] = sodium\n",
    "  content_nutrient.at[index_nutrient, 'potassium'] = potassium\n",
    "  content_compound.at[index_compound, 'potassium'] = potassium\n",
    "  content_nutrient.at[index_nutrient, 'calcium'] = calcium\n",
    "  content_compound.at[index_compound, 'calcium'] = calcium\n",
    "  content_nutrient.at[index_nutrient, 'iron'] = iron\n",
    "  content_compound.at[index_compound, 'iron'] = iron\n",
    "  content_nutrient.at[index_nutrient, 'phosphorus'] = phosphorus\n",
    "  content_compound.at[index_compound, 'phosphorus'] = phosphorus"
   ]
  },
  {
   "cell_type": "code",
   "execution_count": 24,
   "metadata": {
    "id": "Q2SJ3zdvE1c8"
   },
   "outputs": [],
   "source": [
    "#mg/day\n",
    "rdi_vitaminA = 0.8\n",
    "rdi_vitaminC = 80\n",
    "rdi_vitaminD2 = 0.005\n",
    "rdi_vitaminD3 = 0.005\n",
    "rdi_vitaminEAlpha = 12\n",
    "rdi_vitaminEGamma = 12\n",
    "rdi_vitaminEDelta = 12\n",
    "rdi_vitanimEBeta = 12\n",
    "rdi_vitaminK1 = 0.075\n",
    "rdi_vitaminK2 = 0.075\n",
    "rdi_vitaminB1 = 1.1\n",
    "rdi_vitaminB2 = 1.4\n",
    "rdi_vitaminB3 = 16\n",
    "rdi_vitaminB5 = 0.006\n",
    "rdi_vitaminB6 = 1.4\n",
    "rdi_vitaminB8 = 0.05\n",
    "rdi_vitaminB11 = 0.2"
   ]
  },
  {
   "cell_type": "code",
   "execution_count": 25,
   "metadata": {
    "id": "N_uvHTNuop3h"
   },
   "outputs": [],
   "source": [
    "content_compound.orig_unit = content_compound.orig_unit.replace('mg/100 g fresh weight', 'mg/100g')\n",
    "content_compound.orig_unit = content_compound.orig_unit.replace('NE', 'mg/100g')\n",
    "content_compound.orig_unit = content_compound.orig_unit.replace('uM', 'mg/100g')"
   ]
  },
  {
   "cell_type": "code",
   "execution_count": 26,
   "metadata": {},
   "outputs": [
    {
     "name": "stderr",
     "output_type": "stream",
     "text": [
      "C:\\Users\\julie\\anaconda3\\lib\\site-packages\\pandas\\core\\indexing.py:670: SettingWithCopyWarning: \n",
      "A value is trying to be set on a copy of a slice from a DataFrame\n",
      "\n",
      "See the caveats in the documentation: https://pandas.pydata.org/pandas-docs/stable/user_guide/indexing.html#returning-a-view-versus-a-copy\n",
      "  iloc._setitem_with_indexer(indexer, value)\n"
     ]
    }
   ],
   "source": [
    "for i in range(len(content_compound)):\n",
    "  if content_compound['orig_unit'].iloc[i] == 'α-TE':\n",
    "    content_compound['orig_content'].iloc[i] = content_compound['orig_content'].iloc[i]*0.67\n",
    "    content_compound['orig_unit'].iloc[i] = 'mg/100g'"
   ]
  },
  {
   "cell_type": "code",
   "execution_count": 27,
   "metadata": {
    "colab": {
     "base_uri": "https://localhost:8080/"
    },
    "id": "ZhfxypuMEs2U",
    "outputId": "3db4a752-4832-4ce0-ffa6-2a354b5a4b49"
   },
   "outputs": [
    {
     "data": {
      "text/plain": [
       "array(['mg/100g'], dtype=object)"
      ]
     },
     "execution_count": 27,
     "metadata": {},
     "output_type": "execute_result"
    }
   ],
   "source": [
    "target = [30833, 1223, 27659, 12735, 565, 2431, 2432, 12574, 12360, 1310, 8425, 12163, 1014, 8323, 574, 14513, 14507]\n",
    "content_compound[content_compound['source_id'].isin(target)]['orig_unit'].unique()"
   ]
  },
  {
   "cell_type": "code",
   "execution_count": 28,
   "metadata": {
    "colab": {
     "base_uri": "https://localhost:8080/"
    },
    "id": "2qjBS5gH9hJ2",
    "outputId": "2ce242c0-eb81-432d-b9a8-c5d06f6c7449"
   },
   "outputs": [
    {
     "data": {
      "text/plain": [
       "array(['Riboflavine', 'Nicotinic acid', 'Pyridoxine', 'Pantothenic acid',\n",
       "       'Folic acid', 'alpha-Tocopherol', 'Biotin', 'Phytomenadione',\n",
       "       'Vitamin D3', 'Thiamine', 'gamma-Tocopherol', 'd-Tocopherol',\n",
       "       'Ascorbic acid'], dtype=object)"
      ]
     },
     "execution_count": 28,
     "metadata": {},
     "output_type": "execute_result"
    }
   ],
   "source": [
    "content_compound[content_compound['source_id'].isin(target)]['source_name'].unique()"
   ]
  },
  {
   "cell_type": "code",
   "execution_count": 29,
   "metadata": {
    "id": "Ug6J0wCjNohL"
   },
   "outputs": [],
   "source": [
    "target_vitaminA = [30833]\n",
    "target_vitaminC = [1223]\n",
    "target_vitaminD2 = [27659]\n",
    "target_vitaminD3 = [12735]\n",
    "target_vitaminEAlpha = [565]\n",
    "target_vitaminEGamma = [2431]\n",
    "target_vitaminEDelta = [2432]\n",
    "target_vitaminEBeta = [12574]\n",
    "target_vitaminK1 = [12360]\n",
    "target_vitaminK2 = [1310]\n",
    "target_vitaminB1 = [8425]\n",
    "target_vitaminB2 = [12163]\n",
    "target_vitaminB3 = [1014]\n",
    "target_vitaminB5 = [8323]\n",
    "target_vitaminB6 = [574]\n",
    "target_vitaminB8 = [14513]\n",
    "target_vitaminB11 = [14507]\n",
    "\n",
    "for i in range(len(food)):\n",
    "  food_id = food['id'].iloc[i]\n",
    "  index_nutrient = content_nutrient[content_nutrient['food_id'] == food_id].index\n",
    "  index_compound = content_compound[content_compound['food_id'] == food_id].index\n",
    "  df = content_compound.loc[index_compound]\n",
    "\n",
    "  if len(df) == 0:\n",
    "    continue\n",
    "  \n",
    "  df_vitaminA = df[df['source_id'].isin(target_vitaminA)]\n",
    "  if len(df_vitaminA) != 0 and df_vitaminA['orig_content'].iloc[0]/rdi_vitaminA > 0.3:\n",
    "    df_vitaminA = 'high_vitaminA'\n",
    "  elif len(df_vitaminA) == 0 or df_vitaminA['orig_content'].iloc[0]/rdi_vitaminA <= 0.3: \n",
    "    vitaminA = np.nan\n",
    "\n",
    "  df_vitaminC = df[df['source_id'].isin(target_vitaminC)]\n",
    "  if len(df_vitaminC) != 0 and df_vitaminC['orig_content'].iloc[0]/rdi_vitaminC > 0.3:\n",
    "    vitaminC = 'high_vitaminC'\n",
    "  elif len(df_vitaminC) == 0 or df_vitaminC['orig_content'].iloc[0]/rdi_vitaminC <= 0.3: \n",
    "    vitaminC = np.nan\n",
    "\n",
    "  df_vitaminD2 = df[df['source_id'].isin(target_vitaminD2)]\n",
    "  if len(df_vitaminD2) != 0 and df_vitaminD2['orig_content'].iloc[0]/rdi_vitaminD2 > 0.3:\n",
    "    vitaminD2 = 'high_vitaminD2'\n",
    "  elif len(df_vitaminD2) == 0 or df_vitaminD2['orig_content'].iloc[0]/rdi_vitaminD2 <= 0.3: \n",
    "    vitaminD2 = np.nan\n",
    "\n",
    "  df_vitaminD3 = df[df['source_id'].isin(target_vitaminD3)]\n",
    "  if len(df_vitaminD3) != 0 and df_vitaminD3['orig_content'].iloc[0]/rdi_vitaminD3 > 0.3:\n",
    "    vitaminD3 = 'high_vitaminD3'\n",
    "  elif len(df_vitaminD3) == 0 or df_vitaminD3['orig_content'].iloc[0]/rdi_vitaminD3 <= 0.3: \n",
    "    vitaminD3 = np.nan\n",
    "\n",
    "  df_vitaminEAlpha = df[df['source_id'].isin(target_vitaminEAlpha)]\n",
    "  if len(df_vitaminEAlpha) != 0 and df_vitaminEAlpha['orig_content'].iloc[0]/rdi_vitaminEAlpha > 0.3:\n",
    "    vitaminEAlpha = 'high_vitaminEAlpha'\n",
    "  elif len(df_vitaminEAlpha) == 0 or df_vitaminEAlpha['orig_content'].iloc[0]/rdi_vitaminEAlpha <= 0.3: \n",
    "    vitaminEAlpha = np.nan\n",
    "\n",
    "  df_vitaminEGamma = df[df['source_id'].isin(target_vitaminEGamma)]\n",
    "  if len(df_vitaminEGamma) != 0 and df_vitaminEGamma['orig_content'].iloc[0]/rdi_vitaminEGamma > 0.3:\n",
    "    vitaminEGamma = 'high_vitaminEGamma'\n",
    "  elif len(df_vitaminEGamma) == 0 or df_vitaminEGamma['orig_content'].iloc[0]/rdi_vitaminEGamma <= 0.3: \n",
    "    vitaminEGamma = np.nan\n",
    "\n",
    "  df_vitaminEDelta = df[df['source_id'].isin(target_vitaminEDelta)]\n",
    "  if len(df_vitaminEDelta) != 0 and df_vitaminEDelta['orig_content'].iloc[0]/rdi_vitaminEDelta > 0.3:\n",
    "    vitaminEDelta = 'high_vitaminEDelta'\n",
    "  elif len(df_vitaminEDelta) == 0 or df_vitaminEDelta['orig_content'].iloc[0]/rdi_vitaminEDelta <= 0.3: \n",
    "    vitaminEDelta = np.nan\n",
    "\n",
    "  df_vitaminEBeta = df[df['source_id'].isin(target_vitaminEBeta)]\n",
    "  if len(df_vitaminEBeta) != 0 and df_vitaminEBeta['orig_content'].iloc[0]/rdi_vitanimEBeta > 0.3:\n",
    "    vitaminEBeta = 'high_vitaminEBeta'\n",
    "  elif len(df_vitaminEBeta) == 0 or df_vitaminEBeta['orig_content'].iloc[0]/rdi_vitanimEBeta <= 0.3: \n",
    "    vitaminEBeta = np.nan\n",
    "\n",
    "  df_vitaminK1 = df[df['source_id'].isin(target_vitaminK1)]\n",
    "  if len(df_vitaminK1) != 0 and df_vitaminK1['orig_content'].iloc[0]/rdi_vitaminK1 > 0.3:\n",
    "    vitaminK1 = 'high_vitaminK1'\n",
    "  elif len(df_vitaminK1) == 0 or df_vitaminK1['orig_content'].iloc[0]/rdi_vitaminK1 <= 0.3: \n",
    "    vitaminK1 = np.nan\n",
    "\n",
    "  df_vitaminK2 = df[df['source_id'].isin(target_vitaminK2)]\n",
    "  if len(df_vitaminK2) != 0 and df_vitaminK2['orig_content'].iloc[0]/rdi_vitaminK2 > 0.3:\n",
    "    vitaminK2 = 'high_vitaminK2'\n",
    "  elif len(df_vitaminK2) == 0 or df_vitaminK2['orig_content'].iloc[0]/rdi_vitaminK2 <= 0.3: \n",
    "    vitaminK2 = np.nan\n",
    "\n",
    "  df_vitaminB1 = df[df['source_id'].isin(target_vitaminB1)]\n",
    "  if len(df_vitaminB1) != 0 and df_vitaminB1['orig_content'].iloc[0]/rdi_vitaminB1 > 0.3:\n",
    "    vitaminB1 = 'high_vitaminB1'\n",
    "  elif len(df_vitaminB1) == 0 or df_vitaminB1['orig_content'].iloc[0]/rdi_vitaminB1 <= 0.3: \n",
    "    vitaminB1 = np.nan\n",
    "\n",
    "  df_vitaminB2 = df[df['source_id'].isin(target_vitaminB2)]\n",
    "  if len(df_vitaminB2) != 0 and df_vitaminB2['orig_content'].iloc[0]/rdi_vitaminB2 > 0.3:\n",
    "    vitaminB2 = 'high_vitaminB2'\n",
    "  elif len(df_vitaminB2) == 0 or df_vitaminB2['orig_content'].iloc[0]/rdi_vitaminB2 <= 0.3: \n",
    "    vitaminB2 = np.nan\n",
    "\n",
    "  df_vitaminB3 = df[df['source_id'].isin(target_vitaminB3)]\n",
    "  if len(df_vitaminB3) != 0 and df_vitaminB3['orig_content'].iloc[0]/rdi_vitaminB3 > 0.3:\n",
    "    vitaminB3 = 'high_vitaminB3'\n",
    "  elif len(df_vitaminB3) == 0 or df_vitaminB3['orig_content'].iloc[0]/rdi_vitaminB3 <= 0.3: \n",
    "    vitaminB3 = np.nan\n",
    "\n",
    "  df_vitaminB5 = df[df['source_id'].isin(target_vitaminB5)]\n",
    "  if len(df_vitaminB5) != 0 and df_vitaminB5['orig_content'].iloc[0]/rdi_vitaminB5 > 0.3:\n",
    "    vitaminB5 = 'high_vitaminB5'\n",
    "  elif len(df_vitaminB5) == 0 or df_vitaminB5['orig_content'].iloc[0]/rdi_vitaminB5 <= 0.3: \n",
    "    vitaminB5 = np.nan\n",
    "\n",
    "  df_vitaminB6 = df[df['source_id'].isin(target_vitaminB6)]\n",
    "  if len(df_vitaminB6) != 0 and df_vitaminB6['orig_content'].iloc[0]/rdi_vitaminB6 > 0.3:\n",
    "    vitaminB6 = 'high_vitaminB6'\n",
    "  elif len(df_vitaminB6) == 0 or df_vitaminB6['orig_content'].iloc[0]/rdi_vitaminB6<= 0.3: \n",
    "    vitaminB6 = np.nan\n",
    "\n",
    "  df_vitaminB8 = df[df['source_id'].isin(target_vitaminB8)]\n",
    "  if len(df_vitaminB8) != 0 and df_vitaminB8['orig_content'].iloc[0]/rdi_vitaminB8 > 0.3:\n",
    "    vitaminB8 = 'high_vitaminB8'\n",
    "  elif len(df_vitaminB8) == 0 or df_vitaminB8['orig_content'].iloc[0]/rdi_vitaminB8 <= 0.3: \n",
    "    vitaminB8 = np.nan\n",
    "\n",
    "  df_vitaminB11 = df[df['source_id'].isin(target_vitaminB11)]\n",
    "  if len(df_vitaminB11) != 0 and df_vitaminB11['orig_content'].iloc[0]/rdi_vitaminB11 > 0.3:\n",
    "    vitaminB11 = 'high_vitaminB11'\n",
    "  elif len(df_vitaminB11) == 0 or df_vitaminB11['orig_content'].iloc[0]/rdi_vitaminB11 <= 0.3: \n",
    "    vitaminB11 = np.nan\n",
    "\n",
    "  content_nutrient.at[index_nutrient, 'vitaminA'] = vitaminA\n",
    "  content_compound.at[index_compound, 'vitaminA'] = vitaminA\n",
    "  content_nutrient.at[index_nutrient, 'vitaminC'] = vitaminC\n",
    "  content_compound.at[index_compound, 'vitaminC'] = vitaminC\n",
    "  content_nutrient.at[index_nutrient, 'vitaminD2'] = vitaminD2\n",
    "  content_compound.at[index_compound, 'vitaminD2'] = vitaminD2\n",
    "  content_nutrient.at[index_nutrient, 'vitaminD3'] = vitaminD3\n",
    "  content_compound.at[index_compound, 'vitaminD3'] = vitaminD3\n",
    "  content_nutrient.at[index_nutrient, 'vitaminEAlpha'] = vitaminEAlpha\n",
    "  content_compound.at[index_compound, 'vitaminEAlpha'] = vitaminEAlpha\n",
    "  content_nutrient.at[index_nutrient, 'vitaminEGamma'] = vitaminEGamma\n",
    "  content_compound.at[index_compound, 'vitaminEGamma'] = vitaminEGamma\n",
    "  content_nutrient.at[index_nutrient, 'vitaminEDelta'] = vitaminEDelta\n",
    "  content_compound.at[index_compound, 'vitaminEDelta'] = vitaminEDelta\n",
    "  content_nutrient.at[index_nutrient, 'vitaminEBeta'] = vitaminEBeta\n",
    "  content_compound.at[index_compound, 'vitaminEBeta'] = vitaminEBeta\n",
    "  content_nutrient.at[index_nutrient, 'vitaminK1'] = vitaminK1\n",
    "  content_compound.at[index_compound, 'vitaminK1'] = vitaminK1\n",
    "  content_nutrient.at[index_nutrient, 'vitaminK2'] = vitaminK2\n",
    "  content_compound.at[index_compound, 'vitaminK2'] = vitaminK2\n",
    "  content_nutrient.at[index_nutrient, 'vitaminB1'] = vitaminB1\n",
    "  content_compound.at[index_compound, 'vitaminB1'] = vitaminB1\n",
    "  content_nutrient.at[index_nutrient, 'vitaminB2'] = vitaminB2\n",
    "  content_compound.at[index_compound, 'vitaminB2'] = vitaminB2\n",
    "  content_nutrient.at[index_nutrient, 'vitaminB3'] = vitaminB3\n",
    "  content_compound.at[index_compound, 'vitaminB3'] = vitaminB3\n",
    "  content_nutrient.at[index_nutrient, 'vitaminB5'] = vitaminB5\n",
    "  content_compound.at[index_compound, 'vitaminB5'] = vitaminB5\n",
    "  content_nutrient.at[index_nutrient, 'vitaminB6'] = vitaminB6\n",
    "  content_compound.at[index_compound, 'vitaminB6'] = vitaminB6\n",
    "  content_nutrient.at[index_nutrient, 'vitaminB8'] = vitaminB8\n",
    "  content_compound.at[index_compound, 'vitaminB8'] = vitaminB8\n",
    "  content_nutrient.at[index_nutrient, 'vitaminB11'] = vitaminB11\n",
    "  content_compound.at[index_compound, 'vitaminB11'] = vitaminB11"
   ]
  },
  {
   "cell_type": "code",
   "execution_count": 30,
   "metadata": {
    "id": "RiDwyGgEd2hW"
   },
   "outputs": [],
   "source": [
    "allHasQuality = []\n",
    "for i in range(len(content_nutrient)):\n",
    "  hasQuality = []\n",
    "  for j in range(13, len(content_nutrient.columns)):\n",
    "    if 'high' in str(content_nutrient.iloc[i][j]):\n",
    "      hasQuality.append(content_nutrient.iloc[i][j])\n",
    "  allHasQuality.append(hasQuality)\n",
    "content_nutrient['hasQuality'] = allHasQuality\n",
    "\n",
    "allHasQuality = []\n",
    "for i in range(len(content_compound)):\n",
    "  hasQuality = []\n",
    "  for j in range(13, len(content_compound.columns)):\n",
    "    if 'high' in str(content_compound.iloc[i][j]):\n",
    "      hasQuality.append(content_compound.iloc[i][j])\n",
    "  allHasQuality.append(hasQuality)\n",
    "content_compound['hasQuality'] = allHasQuality"
   ]
  },
  {
   "cell_type": "code",
   "execution_count": 31,
   "metadata": {
    "id": "1f4IPr4FehTn"
   },
   "outputs": [],
   "source": [
    "content_nutrient = content_nutrient.drop(['score', 'sodium', 'potassium', 'calcium', 'iron', 'phosphorus',\n",
    "                       'vitaminA', 'vitaminC', 'vitaminD2', 'vitaminD3', 'vitaminEAlpha', \n",
    "                       'vitaminEGamma', 'vitaminEDelta', 'vitaminEBeta', 'vitaminK1', 'vitaminK2',\n",
    "                       'vitaminK2', 'vitaminB1', 'vitaminB2', 'vitaminB3', 'vitaminB5',\n",
    "                       'vitaminB6', 'vitaminB8', 'vitaminB11'], axis=1)\n",
    "\n",
    "content_compound = content_compound.drop(['score', 'sodium', 'potassium', 'calcium', 'iron', 'phosphorus',\n",
    "                       'vitaminA', 'vitaminC', 'vitaminD2', 'vitaminD3', 'vitaminEAlpha', \n",
    "                       'vitaminEGamma', 'vitaminEDelta', 'vitaminEBeta', 'vitaminK1', 'vitaminK2',\n",
    "                       'vitaminK2', 'vitaminB1', 'vitaminB2', 'vitaminB3', 'vitaminB5',\n",
    "                       'vitaminB6', 'vitaminB8', 'vitaminB11'], axis=1)"
   ]
  },
  {
   "cell_type": "code",
   "execution_count": 32,
   "metadata": {
    "id": "Z6D2XLORWqp-"
   },
   "outputs": [],
   "source": [
    "content_nutrient = content_nutrient.to_dict('records')\n",
    "content_compound = content_compound.to_dict('records')"
   ]
  },
  {
   "cell_type": "code",
   "execution_count": 33,
   "metadata": {},
   "outputs": [],
   "source": [
    "with open(\"content_compound.json\", \"w\") as outfile: \n",
    "    json.dump(content_compound, outfile)\n",
    "with open(\"content_nutrient.json\", \"w\") as outfile: \n",
    "    json.dump(content_nutrient, outfile)\n",
    "compounds_health_effect.to_csv('compounds_health_effect.csv')\n",
    "compounds_flavor.to_csv('compounds_flavor.csv')"
   ]
  },
  {
   "cell_type": "markdown",
   "metadata": {},
   "source": [
    "# **Distributions**"
   ]
  },
  {
   "cell_type": "code",
   "execution_count": 34,
   "metadata": {},
   "outputs": [],
   "source": [
    "content_nutrient = pd.read_json('content_nutrient.json')"
   ]
  },
  {
   "cell_type": "code",
   "execution_count": 35,
   "metadata": {},
   "outputs": [],
   "source": [
    "foods = content_nutrient.drop_duplicates(subset=['food_name'])\n",
    "foods = foods.drop(['content_id', 'source_id', 'source_type', 'source_name', 'orig_content', 'orig_unit'], axis=1)"
   ]
  },
  {
   "cell_type": "code",
   "execution_count": 36,
   "metadata": {},
   "outputs": [
    {
     "data": {
      "text/html": [
       "<div>\n",
       "<style scoped>\n",
       "    .dataframe tbody tr th:only-of-type {\n",
       "        vertical-align: middle;\n",
       "    }\n",
       "\n",
       "    .dataframe tbody tr th {\n",
       "        vertical-align: top;\n",
       "    }\n",
       "\n",
       "    .dataframe thead th {\n",
       "        text-align: right;\n",
       "    }\n",
       "</style>\n",
       "<table border=\"1\" class=\"dataframe\">\n",
       "  <thead>\n",
       "    <tr style=\"text-align: right;\">\n",
       "      <th></th>\n",
       "      <th>food_id</th>\n",
       "      <th>food_name</th>\n",
       "      <th>food_group</th>\n",
       "      <th>food_subgroup</th>\n",
       "      <th>nutri_score</th>\n",
       "      <th>nutri_score_category</th>\n",
       "      <th>hasQuality</th>\n",
       "    </tr>\n",
       "  </thead>\n",
       "  <tbody>\n",
       "    <tr>\n",
       "      <th>0</th>\n",
       "      <td>4</td>\n",
       "      <td>Kiwi</td>\n",
       "      <td>Fruits</td>\n",
       "      <td>Tropical fruits</td>\n",
       "      <td>-1</td>\n",
       "      <td>A</td>\n",
       "      <td>[high_vitaminK1, high_vitaminB5]</td>\n",
       "    </tr>\n",
       "    <tr>\n",
       "      <th>1</th>\n",
       "      <td>6</td>\n",
       "      <td>Garden onion</td>\n",
       "      <td>Vegetables</td>\n",
       "      <td>Onion-family vegetables</td>\n",
       "      <td>-4</td>\n",
       "      <td>A</td>\n",
       "      <td>[high_potassium, high_iron, high_phosphorus, h...</td>\n",
       "    </tr>\n",
       "    <tr>\n",
       "      <th>2</th>\n",
       "      <td>9</td>\n",
       "      <td>Chives</td>\n",
       "      <td>Herbs and Spices</td>\n",
       "      <td>Herbs</td>\n",
       "      <td>-3</td>\n",
       "      <td>A</td>\n",
       "      <td>[high_vitaminK1, high_vitaminB5, high_vitaminB...</td>\n",
       "    </tr>\n",
       "    <tr>\n",
       "      <th>3</th>\n",
       "      <td>11</td>\n",
       "      <td>Cashew nut</td>\n",
       "      <td>Nuts</td>\n",
       "      <td>Nuts</td>\n",
       "      <td>14</td>\n",
       "      <td>D</td>\n",
       "      <td>[high_iron, high_phosphorus, high_vitaminEGamm...</td>\n",
       "    </tr>\n",
       "    <tr>\n",
       "      <th>4</th>\n",
       "      <td>12</td>\n",
       "      <td>Pineapple</td>\n",
       "      <td>Fruits</td>\n",
       "      <td>Tropical fruits</td>\n",
       "      <td>2</td>\n",
       "      <td>B</td>\n",
       "      <td>[high_vitaminB5, high_vitaminB8]</td>\n",
       "    </tr>\n",
       "  </tbody>\n",
       "</table>\n",
       "</div>"
      ],
      "text/plain": [
       "   food_id     food_name        food_group            food_subgroup  \\\n",
       "0        4          Kiwi            Fruits          Tropical fruits   \n",
       "1        6  Garden onion        Vegetables  Onion-family vegetables   \n",
       "2        9        Chives  Herbs and Spices                    Herbs   \n",
       "3       11    Cashew nut              Nuts                     Nuts   \n",
       "4       12     Pineapple            Fruits          Tropical fruits   \n",
       "\n",
       "   nutri_score nutri_score_category  \\\n",
       "0           -1                    A   \n",
       "1           -4                    A   \n",
       "2           -3                    A   \n",
       "3           14                    D   \n",
       "4            2                    B   \n",
       "\n",
       "                                          hasQuality  \n",
       "0                   [high_vitaminK1, high_vitaminB5]  \n",
       "1  [high_potassium, high_iron, high_phosphorus, h...  \n",
       "2  [high_vitaminK1, high_vitaminB5, high_vitaminB...  \n",
       "3  [high_iron, high_phosphorus, high_vitaminEGamm...  \n",
       "4                   [high_vitaminB5, high_vitaminB8]  "
      ]
     },
     "execution_count": 36,
     "metadata": {},
     "output_type": "execute_result"
    }
   ],
   "source": [
    "foods.head()"
   ]
  },
  {
   "cell_type": "code",
   "execution_count": 37,
   "metadata": {},
   "outputs": [],
   "source": [
    "foods.to_csv('nutri_scores.csv')"
   ]
  },
  {
   "cell_type": "code",
   "execution_count": 38,
   "metadata": {},
   "outputs": [
    {
     "data": {
      "image/png": "[encoded data removed]",
      "text/plain": [
       "<Figure size 432x288 with 1 Axes>"
      ]
     },
     "metadata": {
      "needs_background": "light"
     },
     "output_type": "display_data"
    }
   ],
   "source": [
    "plt.hist(list(foods['nutri_score']))\n",
    "plt.title('Nutri Score Values')\n",
    "plt.xlabel('Values')\n",
    "plt.ylabel('Occurrences')\n",
    "plt.show()"
   ]
  },
  {
   "cell_type": "code",
   "execution_count": 39,
   "metadata": {},
   "outputs": [
    {
     "data": {
      "text/plain": [
       "-9"
      ]
     },
     "execution_count": 39,
     "metadata": {},
     "output_type": "execute_result"
    }
   ],
   "source": [
    "foods['nutri_score'].min()"
   ]
  },
  {
   "cell_type": "code",
   "execution_count": 40,
   "metadata": {},
   "outputs": [
    {
     "data": {
      "text/plain": [
       "29"
      ]
     },
     "execution_count": 40,
     "metadata": {},
     "output_type": "execute_result"
    }
   ],
   "source": [
    "foods['nutri_score'].max()"
   ]
  },
  {
   "cell_type": "code",
   "execution_count": 41,
   "metadata": {},
   "outputs": [
    {
     "data": {
      "image/png": "[encoded data removed]",
      "text/plain": [
       "<Figure size 432x288 with 1 Axes>"
      ]
     },
     "metadata": {
      "needs_background": "light"
     },
     "output_type": "display_data"
    }
   ],
   "source": [
    "plt.hist(list(foods['nutri_score_category']))\n",
    "plt.title('Nutri Score Categories')\n",
    "plt.xlabel('Categories')\n",
    "plt.ylabel('Occurrences')\n",
    "plt.show()"
   ]
  },
  {
   "cell_type": "code",
   "execution_count": 42,
   "metadata": {},
   "outputs": [],
   "source": [
    "number_of_tags = []\n",
    "for i in range(len(foods)):\n",
    "    length = len(foods['hasQuality'].iloc[i])\n",
    "    number_of_tags.append(length)"
   ]
  },
  {
   "cell_type": "code",
   "execution_count": 43,
   "metadata": {},
   "outputs": [
    {
     "data": {
      "image/png": "[encoded data removed]",
      "text/plain": [
       "<Figure size 432x288 with 1 Axes>"
      ]
     },
     "metadata": {
      "needs_background": "light"
     },
     "output_type": "display_data"
    }
   ],
   "source": [
    "plt.hist(number_of_tags)\n",
    "plt.title('Number of Tags')\n",
    "plt.xlabel('Number of Tags')\n",
    "plt.ylabel('Occurrences')\n",
    "plt.show()"
   ]
  },
  {
   "cell_type": "code",
   "execution_count": 44,
   "metadata": {},
   "outputs": [
    {
     "data": {
      "text/plain": [
       "0"
      ]
     },
     "execution_count": 44,
     "metadata": {},
     "output_type": "execute_result"
    }
   ],
   "source": [
    "np.array(number_of_tags).min()"
   ]
  },
  {
   "cell_type": "code",
   "execution_count": 45,
   "metadata": {},
   "outputs": [
    {
     "data": {
      "text/plain": [
       "12"
      ]
     },
     "execution_count": 45,
     "metadata": {},
     "output_type": "execute_result"
    }
   ],
   "source": [
    "np.array(number_of_tags).max()"
   ]
  }
 ],
 "metadata": {
  "colab": {
   "collapsed_sections": [],
   "name": "bmkg_project_preprocessing.ipynb",
   "provenance": []
  },
  "kernelspec": {
   "display_name": "Python 3",
   "language": "python",
   "name": "python3"
  },
  "language_info": {
   "codemirror_mode": {
    "name": "ipython",
    "version": 3
   },
   "file_extension": ".py",
   "mimetype": "text/x-python",
   "name": "python",
   "nbconvert_exporter": "python",
   "pygments_lexer": "ipython3",
   "version": "3.8.8"
  }
 },
 "nbformat": 4,
 "nbformat_minor": 4
}
