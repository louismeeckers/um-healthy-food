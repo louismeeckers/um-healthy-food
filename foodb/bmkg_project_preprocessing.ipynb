{
  "nbformat": 4,
  "nbformat_minor": 0,
  "metadata": {
    "accelerator": "GPU",
    "colab": {
      "name": "bmkg_project_preprocessing.ipynb",
      "provenance": [],
      "collapsed_sections": []
    },
    "kernelspec": {
      "display_name": "Python 3",
      "name": "python3"
    }
  },
  "cells": [
    {
      "cell_type": "code",
      "metadata": {
        "colab": {
          "base_uri": "https://localhost:8080/"
        },
        "id": "W0NIf5EjMduq",
        "outputId": "8807b2c7-db12-459f-be4e-54ab0eadf540"
      },
      "source": [
        "import pandas as pd\n",
        "import numpy as np\n",
        "from google.colab import drive\n",
        "drive.mount(\"/content/gdrive\")"
      ],
      "execution_count": 318,
      "outputs": [
        {
          "output_type": "stream",
          "text": [
            "Drive already mounted at /content/gdrive; to attempt to forcibly remount, call drive.mount(\"/content/gdrive\", force_remount=True).\n"
          ],
          "name": "stdout"
        }
      ]
    },
    {
      "cell_type": "markdown",
      "metadata": {
        "id": "-rQSER1hMxND"
      },
      "source": [
        "#**Data**"
      ]
    },
    {
      "cell_type": "code",
      "metadata": {
        "id": "HEMYeLxPMriN",
        "colab": {
          "base_uri": "https://localhost:8080/"
        },
        "outputId": "2b11f420-5be8-45a4-935d-e93c78f3704a"
      },
      "source": [
        "food = pd.read_csv('/content/gdrive/My Drive/Food.csv')\n",
        "compound = pd.read_csv('/content/gdrive/My Drive/Compound.csv')\n",
        "nutrient = pd.read_csv('/content/gdrive/My Drive/Nutrient.csv')\n",
        "content = pd.read_csv('/content/gdrive/My Drive/Content.csv')\n",
        "health_effect = pd.read_csv('/content/gdrive/My Drive/HealthEffect.csv')\n",
        "compounds_health_effect = pd.read_csv('/content/gdrive/My Drive/CompoundsHealthEffect.csv')\n",
        "flavor = pd.read_csv('/content/gdrive/My Drive/Flavor.csv')\n",
        "compounds_flavor = pd.read_csv('/content/gdrive/My Drive/CompoundsFlavor.csv')"
      ],
      "execution_count": 319,
      "outputs": [
        {
          "output_type": "stream",
          "text": [
            "/usr/local/lib/python3.7/dist-packages/IPython/core/interactiveshell.py:2718: DtypeWarning: Columns (3,4,5,6,12,13,14,15) have mixed types.Specify dtype option on import or set low_memory=False.\n",
            "  interactivity=interactivity, compiler=compiler, result=result)\n",
            "/usr/local/lib/python3.7/dist-packages/IPython/core/interactiveshell.py:2718: DtypeWarning: Columns (4,5,6,7,8,9,13,14,21,22,24) have mixed types.Specify dtype option on import or set low_memory=False.\n",
            "  interactivity=interactivity, compiler=compiler, result=result)\n"
          ],
          "name": "stderr"
        }
      ]
    },
    {
      "cell_type": "code",
      "metadata": {
        "id": "_sGmvq4KPCO0"
      },
      "source": [
        "food = food.replace('NA',np.nan)\n",
        "food = food[['id', 'name', 'food_group', 'food_subgroup']]\n",
        "food = food.dropna()\n",
        "\n",
        "compound = compound.replace('NA',np.nan)\n",
        "compound = compound[['id', 'name']]\n",
        "compound = compound.dropna()\n",
        "\n",
        "nutrient = nutrient.replace('NA',np.nan)\n",
        "nutrient = nutrient[['id', 'name']]\n",
        "nutrient = nutrient.dropna()\n",
        "\n",
        "content = content.replace('NA',np.nan)\n",
        "content = content[['source_id', 'source_type', 'food_id', 'orig_content', 'orig_unit']]\n",
        "content_compound = content[(content['source_type'] == 'Compound')]\n",
        "content_nutrient = content[(content['source_type'] == 'Nutrient')]\n",
        "content_compound = content_compound.dropna()\n",
        "content_nutrient = content_nutrient.dropna()\n",
        "\n",
        "health_effect = health_effect.replace('NA',np.nan)\n",
        "health_effect = health_effect[['id', 'name']]\n",
        "health_effect = health_effect.dropna()\n",
        "\n",
        "compounds_health_effect = compounds_health_effect.replace('NA',np.nan)\n",
        "compounds_health_effect = compounds_health_effect[['compound_id', 'health_effect_id']]\n",
        "compounds_health_effect = compounds_health_effect.dropna()\n",
        "\n",
        "flavor = flavor.replace('NA',np.nan)\n",
        "flavor = flavor[['id', 'name']]\n",
        "flavor = flavor.dropna()\n",
        "\n",
        "compounds_flavor = compounds_flavor.replace('NA',np.nan)\n",
        "compounds_flavor = compounds_flavor[['compound_id', 'flavor_id']]\n",
        "compounds_flavor = compounds_flavor.dropna()"
      ],
      "execution_count": 320,
      "outputs": []
    },
    {
      "cell_type": "code",
      "metadata": {
        "id": "cLRrdI-5NjeC"
      },
      "source": [
        "content_compound = content_compound[content_compound.orig_content != 0]\n",
        "content_nutrient = content_nutrient[content_nutrient.orig_content != 0]\n",
        "content_compound = content_compound.drop_duplicates(subset=['source_id', 'food_id'])\n",
        "content_nutrient = content_nutrient.drop_duplicates(subset=['source_id', 'food_id'])"
      ],
      "execution_count": 321,
      "outputs": []
    },
    {
      "cell_type": "code",
      "metadata": {
        "id": "zU6GZ-MLEjWm"
      },
      "source": [
        "#Food-Compound\n",
        "for i in range(len(food)):\n",
        "  food_id = food['id'].iloc[i]\n",
        "  food_name = food[food['id'] == food_id]['name'].iloc[0]\n",
        "  food_group = food[food['id'] == food_id]['food_group'].iloc[0]\n",
        "  food_subgroup = food[food['id'] == food_id]['food_subgroup'].iloc[0]\n",
        "  index = content_compound[content_compound['food_id'] == food_id].index\n",
        "  content_compound.at[index, 'food_name'] = food_name\n",
        "  content_compound.at[index, 'food_group'] = food_group\n",
        "  content_compound.at[index, 'food_subgroup'] = food_subgroup\n",
        "\n",
        "for i in range(len(compound)):\n",
        "  compound_id = compound['id'].iloc[i]\n",
        "  compound_name = compound[compound['id'] == compound_id]['name'].iloc[0]\n",
        "  index = content_compound[(content_compound['source_id'] == compound_id)].index\n",
        "  content_compound.at[index, 'source_name'] = compound_name"
      ],
      "execution_count": 322,
      "outputs": []
    },
    {
      "cell_type": "code",
      "metadata": {
        "id": "umDF0XBC5LUg"
      },
      "source": [
        "#Food-Nutrient\n",
        "for i in range(len(food)):\n",
        "  food_id = food['id'].iloc[i]\n",
        "  food_name = food[food['id'] == food_id]['name'].iloc[0]\n",
        "  food_group = food[food['id'] == food_id]['food_group'].iloc[0]\n",
        "  food_subgroup = food[food['id'] == food_id]['food_subgroup'].iloc[0]\n",
        "  index = content_nutrient[content_nutrient['food_id'] == food_id].index\n",
        "  content_nutrient.at[index, 'food_name'] = food_name\n",
        "  content_nutrient.at[index, 'food_group'] = food_group\n",
        "  content_nutrient.at[index, 'food_subgroup'] = food_subgroup\n",
        "\n",
        "for i in range(len(nutrient)):\n",
        "  nutrient_id = nutrient['id'].iloc[i]\n",
        "  nutrient_name = nutrient[nutrient['id'] == nutrient_id]['name'].iloc[0]\n",
        "  index = content_nutrient[(content_nutrient['source_id'] == nutrient_id)].index\n",
        "  content_nutrient.at[index, 'source_name'] = nutrient_name"
      ],
      "execution_count": 323,
      "outputs": []
    },
    {
      "cell_type": "code",
      "metadata": {
        "id": "4VU0drDTyHQP"
      },
      "source": [
        "#Compound-Health Effect\n",
        "for i in range(len(health_effect)):\n",
        "  health_effect_id = health_effect['id'].iloc[i]\n",
        "  health_effect_name = health_effect[health_effect['id'] == health_effect_id]['name'].iloc[0]\n",
        "  index = compounds_health_effect[compounds_health_effect['health_effect_id'] == health_effect_id].index\n",
        "  compounds_health_effect.at[index, 'health_effect_name'] = health_effect_name\n",
        "\n",
        "for i in range(len(compound)):\n",
        "  compound_id = compound['id'].iloc[i]\n",
        "  compound_name = compound[compound['id'] == compound_id]['name'].iloc[0]\n",
        "  index = compounds_health_effect[compounds_health_effect['compound_id'] == compound_id].index\n",
        "  compounds_health_effect.at[index, 'compound_name'] = compound_name"
      ],
      "execution_count": 324,
      "outputs": []
    },
    {
      "cell_type": "code",
      "metadata": {
        "id": "JWK-1b8Zyilq"
      },
      "source": [
        "#Compound-Flavor\n",
        "for i in range(len(flavor)):\n",
        "  flavor_id = flavor['id'].iloc[i]\n",
        "  flavor_name = flavor[flavor['id'] == flavor_id]['name'].iloc[0]\n",
        "  index = compounds_flavor[compounds_flavor['flavor_id'] == flavor_id].index\n",
        "  compounds_flavor.at[index, 'flavor_name'] = flavor_name\n",
        "\n",
        "for i in range(len(compound)):\n",
        "  compound_id = compound['id'].iloc[i]\n",
        "  compound_name = compound[compound['id'] == compound_id]['name'].iloc[0]\n",
        "  index = compounds_flavor[compounds_flavor['compound_id'] == compound_id].index\n",
        "  compounds_flavor.at[index, 'compound_name'] = compound_name"
      ],
      "execution_count": 325,
      "outputs": []
    },
    {
      "cell_type": "markdown",
      "metadata": {
        "id": "gWNntBHHjrIx"
      },
      "source": [
        "# **Nutri-Scores**"
      ]
    },
    {
      "cell_type": "markdown",
      "metadata": {
        "id": "fl1Q6NN_s5b8"
      },
      "source": [
        "Preprocessing that needs to be done to compute the Nutri-Scores:\n",
        "\n",
        "- convert mg/100g to g/100g\n",
        "\n",
        "- convert kcal/100g to kJ/100g"
      ]
    },
    {
      "cell_type": "code",
      "metadata": {
        "id": "XGNuo0jPr1Ga"
      },
      "source": [
        "content_nutrient.orig_unit = content_nutrient.orig_unit.replace('mg/100 g', 'mg/100g')\n",
        "content_compound.orig_unit = content_compound.orig_unit.replace('mg/100 g', 'mg/100g')"
      ],
      "execution_count": 326,
      "outputs": []
    },
    {
      "cell_type": "code",
      "metadata": {
        "colab": {
          "base_uri": "https://localhost:8080/"
        },
        "id": "DxF2BxA8ty3B",
        "outputId": "b2631237-52fb-44ef-f958-461c85986a2a"
      },
      "source": [
        "for i in range(len(content_nutrient)):\n",
        "  if content_nutrient['orig_unit'].iloc[i] == 'mg/100g':\n",
        "    content_nutrient['orig_content'].iloc[i] /= 1000\n",
        "    content_nutrient['orig_unit'].iloc[i] = 'g/100g'\n",
        "  elif content_nutrient['orig_unit'].iloc[i] == 'kcal/100g':\n",
        "    content_nutrient['orig_content'].iloc[i] *= 4.184\n",
        "    content_nutrient['orig_unit'].iloc[i] = 'kJ/100g'\n",
        "\n",
        "for i in range(len(content_compound)):\n",
        "  if content_compound['orig_unit'].iloc[i] == 'mg/100g':\n",
        "    content_compound['orig_content'].iloc[i] /= 1000\n",
        "    content_compound['orig_unit'].iloc[i] = 'g/100g'"
      ],
      "execution_count": 327,
      "outputs": [
        {
          "output_type": "stream",
          "text": [
            "/usr/local/lib/python3.7/dist-packages/pandas/core/indexing.py:670: SettingWithCopyWarning: \n",
            "A value is trying to be set on a copy of a slice from a DataFrame\n",
            "\n",
            "See the caveats in the documentation: https://pandas.pydata.org/pandas-docs/stable/user_guide/indexing.html#returning-a-view-versus-a-copy\n",
            "  iloc._setitem_with_indexer(indexer, value)\n"
          ],
          "name": "stderr"
        }
      ]
    },
    {
      "cell_type": "code",
      "metadata": {
        "id": "z_4e9t8EquXj"
      },
      "source": [
        "def scoreEnergy(energy):\n",
        "  if energy <= 335:\n",
        "    return 0\n",
        "  elif energy > 3350:\n",
        "    return 10\n",
        "  elif energy > 3015:\n",
        "    return 9\n",
        "  elif energy > 2680:\n",
        "    return 8\n",
        "  elif energy > 2345:\n",
        "    return 7\n",
        "  elif energy > 2010:\n",
        "    return 6\n",
        "  elif energy > 1675:\n",
        "    return 5\n",
        "  elif energy > 1340:\n",
        "    return 4\n",
        "  elif energy > 1005:\n",
        "    return 3\n",
        "  elif energy > 670:\n",
        "    return 2\n",
        "  elif energy > 335:\n",
        "    return 1\n",
        "\n",
        "def scoreSugar(sugar):\n",
        "  if sugar <= 4.5:\n",
        "    return 0\n",
        "  elif sugar > 45:\n",
        "    return 10\n",
        "  elif sugar > 40:\n",
        "    return 9\n",
        "  elif sugar > 36:\n",
        "    return 8\n",
        "  elif sugar > 31:\n",
        "    return 7\n",
        "  elif sugar > 27:\n",
        "    return 6\n",
        "  elif sugar > 22.5:\n",
        "    return 5\n",
        "  elif sugar > 18:\n",
        "    return 4\n",
        "  elif sugar > 13.5:\n",
        "    return 3\n",
        "  elif sugar > 9:\n",
        "    return 2\n",
        "  elif sugar > 4.5:\n",
        "    return 1\n",
        "\n",
        "def scoreSaturatedFattyAcis(saturatedFattyAcids):\n",
        "  if saturatedFattyAcids <= 1:\n",
        "    return 0\n",
        "  elif saturatedFattyAcids > 10:\n",
        "    return 10\n",
        "  elif saturatedFattyAcids > 9:\n",
        "    return 9\n",
        "  elif saturatedFattyAcids > 8:\n",
        "    return 8\n",
        "  elif saturatedFattyAcids > 7:\n",
        "    return 7\n",
        "  elif saturatedFattyAcids > 6:\n",
        "    return 6\n",
        "  elif saturatedFattyAcids > 5:\n",
        "    return 5\n",
        "  elif saturatedFattyAcids > 4:\n",
        "    return 4\n",
        "  elif saturatedFattyAcids > 3:\n",
        "    return 3\n",
        "  elif saturatedFattyAcids > 2:\n",
        "    return 2\n",
        "  elif saturatedFattyAcids > 1:\n",
        "    return 1\n",
        "\n",
        "def scoreSodium(sodium):\n",
        "  if sodium <= 90:\n",
        "    return 0\n",
        "  elif sodium > 900:\n",
        "    return 10\n",
        "  elif sodium > 810:\n",
        "    return 9\n",
        "  elif sodium > 720:\n",
        "    return 8\n",
        "  elif sodium > 630:\n",
        "    return 7\n",
        "  elif sodium > 540:\n",
        "    return 6\n",
        "  elif sodium > 450:\n",
        "    return 5\n",
        "  elif sodium > 360:\n",
        "    return 4\n",
        "  elif sodium > 270:\n",
        "    return 3\n",
        "  elif sodium > 180:\n",
        "    return 2\n",
        "  elif sodium > 90:\n",
        "    return 1\n",
        "\n",
        "def scoreFibers(fibers):\n",
        "  if fibers <= 0.9:\n",
        "    return 0\n",
        "  elif fibers > 4.7:\n",
        "    return -5\n",
        "  elif fibers > 3.7:\n",
        "    return -4\n",
        "  elif fibers > 2.8:\n",
        "    return -3\n",
        "  elif fibers > 1.9:\n",
        "    return -2\n",
        "  elif fibers > 0.9:\n",
        "    return -1\n",
        "\n",
        "def scoreProteins(proteins):\n",
        "  if proteins <= 1.6:\n",
        "    return 0\n",
        "  elif proteins > 8:\n",
        "    return -5\n",
        "  elif proteins > 6.4:\n",
        "    return -4\n",
        "  elif proteins > 4.8:\n",
        "    return -3\n",
        "  elif proteins > 3.2:\n",
        "    return -2\n",
        "  elif proteins > 1.6:\n",
        "    return -1\n",
        "\n",
        "def nutriScore(nutri_score):\n",
        "  if nutri_score >= -15 and nutri_score <= -1:\n",
        "    return 'A'\n",
        "  elif nutri_score >= 0 and nutri_score <= 2:\n",
        "    return 'B'\n",
        "  elif nutri_score >= 3 and nutri_score <= 10:\n",
        "    return 'C'\n",
        "  elif nutri_score >= 11 and nutri_score <= 18:\n",
        "    return 'D'\n",
        "  elif nutri_score >= 19 and nutri_score <= 40:\n",
        "    return 'E'"
      ],
      "execution_count": 328,
      "outputs": []
    },
    {
      "cell_type": "code",
      "metadata": {
        "id": "djnLlEHE4UQN"
      },
      "source": [
        "#add sodium score\n",
        "target_sodium_id = [3524]\n",
        "for i in range(len(food)):\n",
        "  food_id = food['id'].iloc[i]\n",
        "  index = content_compound[content_compound['food_id'] == food_id].index\n",
        "  df_sodium = content_compound.loc[index]\n",
        "  df_sodium = df_sodium[df_sodium['source_id'].isin(target_sodium_id)]\n",
        "  if len(df_sodium) == 0:\n",
        "    continue\n",
        "  score = scoreSodium(df_sodium.orig_content.iloc[0])\n",
        "  content_compound.at[df_sodium.index, 'score'] = score"
      ],
      "execution_count": 329,
      "outputs": []
    },
    {
      "cell_type": "code",
      "metadata": {
        "id": "tCRHbgrw4vcn"
      },
      "source": [
        "target_protein_id = [2]\n",
        "target_carbohydrate_id = [3]\n",
        "target_fatty_acics_id = [4]\n",
        "target_fiber_id = [5]\n",
        "target_energy = [38]\n",
        "for i in range(len(food)):\n",
        "  food_id = food['id'].iloc[i]\n",
        "  index = content_nutrient[content_nutrient['food_id'] == food_id].index\n",
        "  df = content_nutrient.loc[index]\n",
        "\n",
        "  #add protein score\n",
        "  df_protein = df[df['source_id'].isin(target_protein_id)]\n",
        "  if len(df_protein) == 0:\n",
        "    continue\n",
        "  score = scoreProteins(df_protein.orig_content.iloc[0])\n",
        "  content_nutrient.at[df_protein.index, 'score'] = score\n",
        "\n",
        "  #add carbohydrate score\n",
        "  df_carbohydrate = df[df['source_id'].isin(target_carbohydrate_id)]\n",
        "  if len(df_carbohydrate) == 0:\n",
        "    continue\n",
        "  score = scoreSugar(df_carbohydrate.orig_content.iloc[0])\n",
        "  content_nutrient.at[df_carbohydrate.index, 'score'] = score\n",
        "\n",
        "  #add fatty acids score\n",
        "  df_fatty_acids = df[df['source_id'].isin(target_fatty_acics_id)]\n",
        "  if len(df_fatty_acids) == 0:\n",
        "    continue\n",
        "  score = scoreSaturatedFattyAcis(df_fatty_acids.orig_content.iloc[0])\n",
        "  content_nutrient.at[df_fatty_acids.index, 'score'] = score\n",
        "\n",
        "  #add fiber score\n",
        "  df_fiber = df[df['source_id'].isin(target_fiber_id)]\n",
        "  if len(df_fiber) == 0:\n",
        "    continue\n",
        "  score = scoreFibers(df_fiber.orig_content.iloc[0])\n",
        "  content_nutrient.at[df_fiber.index, 'score'] = score\n",
        "\n",
        "  #add energy score\n",
        "  df_energy = df[df['source_id'].isin(target_energy)]\n",
        "  if len(df_energy) == 0:\n",
        "    continue\n",
        "  score = scoreEnergy(df_energy.orig_content.iloc[0])\n",
        "  content_nutrient.at[df_energy.index, 'score'] = score"
      ],
      "execution_count": 330,
      "outputs": []
    },
    {
      "cell_type": "code",
      "metadata": {
        "id": "F0XdC4Dp8J7U"
      },
      "source": [
        "#add Nutri-Score\n",
        "target_nutrient_id = [2,3,4,5,38]\n",
        "temp_nutrient = content_nutrient[content_nutrient['source_id'].isin(target_nutrient_id)]\n",
        "\n",
        "target_compound_id = [3524]\n",
        "temp_compound = content_compound[content_compound['source_id'].isin(target_compound_id)]\n",
        "\n",
        "for i in range(len(food)):\n",
        "  food_id = food['id'].iloc[i]\n",
        "  index_nutrient = content_nutrient[content_nutrient['food_id'] == food_id].index\n",
        "  index_compound = content_compound[content_compound['food_id'] == food_id].index\n",
        "\n",
        "  temp_index_nutrient = temp_nutrient[temp_nutrient['food_id'] == food_id].index\n",
        "  temp_index_compound = temp_compound[temp_compound['food_id'] == food_id].index\n",
        "  df_nutrient = temp_nutrient.loc[temp_index_nutrient]\n",
        "  df_compound = temp_compound.loc[temp_index_compound]\n",
        "  df = pd.concat([df_nutrient, df_compound])\n",
        "  nutri_score = df['score'].sum(axis = 0)\n",
        "  nutri_score_category = nutriScore(nutri_score)\n",
        "\n",
        "  content_nutrient.at[index_nutrient, 'nutri_score'] = nutri_score\n",
        "  content_compound.at[index_compound, 'nutri_score'] = nutri_score\n",
        "  content_nutrient.at[index_nutrient, 'nutri_score_category'] = nutri_score_category\n",
        "  content_compound.at[index_compound, 'nutri_score_category'] = nutri_score_category"
      ],
      "execution_count": 331,
      "outputs": []
    },
    {
      "cell_type": "code",
      "metadata": {
        "id": "EsacOy1ZwtVF"
      },
      "source": [
        "content_compound.to_csv('content_compound.csv')\n",
        "content_nutrient.to_csv('content_nutrient.csv')\n",
        "compounds_health_effect.to_csv('compounds_health_effect.csv')\n",
        "compounds_flavor.to_csv('compounds_flavor.csv')"
      ],
      "execution_count": 332,
      "outputs": []
    },
    {
      "cell_type": "code",
      "metadata": {
        "id": "r_KRh68TDqPM",
        "colab": {
          "base_uri": "https://localhost:8080/",
          "height": 17
        },
        "outputId": "ec164943-c107-4c33-ace0-24df47cea69f"
      },
      "source": [
        "from google.colab import files\n",
        "files.download('content_compound.csv')\n",
        "files.download('content_nutrient.csv')\n",
        "files.download('compounds_health_effect.csv')\n",
        "files.download('compounds_flavor.csv')"
      ],
      "execution_count": 334,
      "outputs": [
        {
          "output_type": "display_data",
          "data": {
            "application/javascript": [
              "\n",
              "    async function download(id, filename, size) {\n",
              "      if (!google.colab.kernel.accessAllowed) {\n",
              "        return;\n",
              "      }\n",
              "      const div = document.createElement('div');\n",
              "      const label = document.createElement('label');\n",
              "      label.textContent = `Downloading \"${filename}\": `;\n",
              "      div.appendChild(label);\n",
              "      const progress = document.createElement('progress');\n",
              "      progress.max = size;\n",
              "      div.appendChild(progress);\n",
              "      document.body.appendChild(div);\n",
              "\n",
              "      const buffers = [];\n",
              "      let downloaded = 0;\n",
              "\n",
              "      const channel = await google.colab.kernel.comms.open(id);\n",
              "      // Send a message to notify the kernel that we're ready.\n",
              "      channel.send({})\n",
              "\n",
              "      for await (const message of channel.messages) {\n",
              "        // Send a message to notify the kernel that we're ready.\n",
              "        channel.send({})\n",
              "        if (message.buffers) {\n",
              "          for (const buffer of message.buffers) {\n",
              "            buffers.push(buffer);\n",
              "            downloaded += buffer.byteLength;\n",
              "            progress.value = downloaded;\n",
              "          }\n",
              "        }\n",
              "      }\n",
              "      const blob = new Blob(buffers, {type: 'application/binary'});\n",
              "      const a = document.createElement('a');\n",
              "      a.href = window.URL.createObjectURL(blob);\n",
              "      a.download = filename;\n",
              "      div.appendChild(a);\n",
              "      a.click();\n",
              "      div.remove();\n",
              "    }\n",
              "  "
            ],
            "text/plain": [
              "<IPython.core.display.Javascript object>"
            ]
          },
          "metadata": {
            "tags": []
          }
        },
        {
          "output_type": "display_data",
          "data": {
            "application/javascript": [
              "download(\"download_cc68f4c4-3e4b-4a85-89ae-f3a5a53c4a27\", \"content_compound.csv\", 5120106)"
            ],
            "text/plain": [
              "<IPython.core.display.Javascript object>"
            ]
          },
          "metadata": {
            "tags": []
          }
        },
        {
          "output_type": "display_data",
          "data": {
            "application/javascript": [
              "\n",
              "    async function download(id, filename, size) {\n",
              "      if (!google.colab.kernel.accessAllowed) {\n",
              "        return;\n",
              "      }\n",
              "      const div = document.createElement('div');\n",
              "      const label = document.createElement('label');\n",
              "      label.textContent = `Downloading \"${filename}\": `;\n",
              "      div.appendChild(label);\n",
              "      const progress = document.createElement('progress');\n",
              "      progress.max = size;\n",
              "      div.appendChild(progress);\n",
              "      document.body.appendChild(div);\n",
              "\n",
              "      const buffers = [];\n",
              "      let downloaded = 0;\n",
              "\n",
              "      const channel = await google.colab.kernel.comms.open(id);\n",
              "      // Send a message to notify the kernel that we're ready.\n",
              "      channel.send({})\n",
              "\n",
              "      for await (const message of channel.messages) {\n",
              "        // Send a message to notify the kernel that we're ready.\n",
              "        channel.send({})\n",
              "        if (message.buffers) {\n",
              "          for (const buffer of message.buffers) {\n",
              "            buffers.push(buffer);\n",
              "            downloaded += buffer.byteLength;\n",
              "            progress.value = downloaded;\n",
              "          }\n",
              "        }\n",
              "      }\n",
              "      const blob = new Blob(buffers, {type: 'application/binary'});\n",
              "      const a = document.createElement('a');\n",
              "      a.href = window.URL.createObjectURL(blob);\n",
              "      a.download = filename;\n",
              "      div.appendChild(a);\n",
              "      a.click();\n",
              "      div.remove();\n",
              "    }\n",
              "  "
            ],
            "text/plain": [
              "<IPython.core.display.Javascript object>"
            ]
          },
          "metadata": {
            "tags": []
          }
        },
        {
          "output_type": "display_data",
          "data": {
            "application/javascript": [
              "download(\"download_773de897-db80-4486-a8d0-3d27604b2f82\", \"content_nutrient.csv\", 842324)"
            ],
            "text/plain": [
              "<IPython.core.display.Javascript object>"
            ]
          },
          "metadata": {
            "tags": []
          }
        },
        {
          "output_type": "display_data",
          "data": {
            "application/javascript": [
              "\n",
              "    async function download(id, filename, size) {\n",
              "      if (!google.colab.kernel.accessAllowed) {\n",
              "        return;\n",
              "      }\n",
              "      const div = document.createElement('div');\n",
              "      const label = document.createElement('label');\n",
              "      label.textContent = `Downloading \"${filename}\": `;\n",
              "      div.appendChild(label);\n",
              "      const progress = document.createElement('progress');\n",
              "      progress.max = size;\n",
              "      div.appendChild(progress);\n",
              "      document.body.appendChild(div);\n",
              "\n",
              "      const buffers = [];\n",
              "      let downloaded = 0;\n",
              "\n",
              "      const channel = await google.colab.kernel.comms.open(id);\n",
              "      // Send a message to notify the kernel that we're ready.\n",
              "      channel.send({})\n",
              "\n",
              "      for await (const message of channel.messages) {\n",
              "        // Send a message to notify the kernel that we're ready.\n",
              "        channel.send({})\n",
              "        if (message.buffers) {\n",
              "          for (const buffer of message.buffers) {\n",
              "            buffers.push(buffer);\n",
              "            downloaded += buffer.byteLength;\n",
              "            progress.value = downloaded;\n",
              "          }\n",
              "        }\n",
              "      }\n",
              "      const blob = new Blob(buffers, {type: 'application/binary'});\n",
              "      const a = document.createElement('a');\n",
              "      a.href = window.URL.createObjectURL(blob);\n",
              "      a.download = filename;\n",
              "      div.appendChild(a);\n",
              "      a.click();\n",
              "      div.remove();\n",
              "    }\n",
              "  "
            ],
            "text/plain": [
              "<IPython.core.display.Javascript object>"
            ]
          },
          "metadata": {
            "tags": []
          }
        },
        {
          "output_type": "display_data",
          "data": {
            "application/javascript": [
              "download(\"download_496635d0-9b17-434b-801d-bb030fb605ba\", \"compounds_health_effect.csv\", 458012)"
            ],
            "text/plain": [
              "<IPython.core.display.Javascript object>"
            ]
          },
          "metadata": {
            "tags": []
          }
        },
        {
          "output_type": "display_data",
          "data": {
            "application/javascript": [
              "\n",
              "    async function download(id, filename, size) {\n",
              "      if (!google.colab.kernel.accessAllowed) {\n",
              "        return;\n",
              "      }\n",
              "      const div = document.createElement('div');\n",
              "      const label = document.createElement('label');\n",
              "      label.textContent = `Downloading \"${filename}\": `;\n",
              "      div.appendChild(label);\n",
              "      const progress = document.createElement('progress');\n",
              "      progress.max = size;\n",
              "      div.appendChild(progress);\n",
              "      document.body.appendChild(div);\n",
              "\n",
              "      const buffers = [];\n",
              "      let downloaded = 0;\n",
              "\n",
              "      const channel = await google.colab.kernel.comms.open(id);\n",
              "      // Send a message to notify the kernel that we're ready.\n",
              "      channel.send({})\n",
              "\n",
              "      for await (const message of channel.messages) {\n",
              "        // Send a message to notify the kernel that we're ready.\n",
              "        channel.send({})\n",
              "        if (message.buffers) {\n",
              "          for (const buffer of message.buffers) {\n",
              "            buffers.push(buffer);\n",
              "            downloaded += buffer.byteLength;\n",
              "            progress.value = downloaded;\n",
              "          }\n",
              "        }\n",
              "      }\n",
              "      const blob = new Blob(buffers, {type: 'application/binary'});\n",
              "      const a = document.createElement('a');\n",
              "      a.href = window.URL.createObjectURL(blob);\n",
              "      a.download = filename;\n",
              "      div.appendChild(a);\n",
              "      a.click();\n",
              "      div.remove();\n",
              "    }\n",
              "  "
            ],
            "text/plain": [
              "<IPython.core.display.Javascript object>"
            ]
          },
          "metadata": {
            "tags": []
          }
        },
        {
          "output_type": "display_data",
          "data": {
            "application/javascript": [
              "download(\"download_c9265374-3846-43a8-877d-3dc4904778ad\", \"compounds_flavor.csv\", 473194)"
            ],
            "text/plain": [
              "<IPython.core.display.Javascript object>"
            ]
          },
          "metadata": {
            "tags": []
          }
        }
      ]
    }
  ]
}