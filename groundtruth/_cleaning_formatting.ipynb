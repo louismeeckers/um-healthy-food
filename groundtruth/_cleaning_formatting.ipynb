{
 "cells": [
  {
   "cell_type": "code",
   "execution_count": 120,
   "metadata": {},
   "outputs": [],
   "source": [
    "import numpy as np\n",
    "import pandas as pd\n",
    "import math as math\n",
    "import matplotlib.pyplot as plt\n",
    "import json\n",
    "from typing import List"
   ]
  },
  {
   "cell_type": "markdown",
   "metadata": {},
   "source": [
    "# Clean the Ground Truth dataset"
   ]
  },
  {
   "cell_type": "code",
   "execution_count": 155,
   "metadata": {},
   "outputs": [],
   "source": [
    "ingredients = pd.read_json('subs_webcontent_chunks.json')\n",
    "ingredients = ingredients.rename(columns={1: \"name\", 2: \"ingredient\", 3: \"url\"})\n",
    "ingredients['id'] = ingredients.index\n",
    "\n",
    "ingredients['name'] = ingredients['name'].replace(to_replace =' +', value = ' ', regex = True)\n",
    "ingredients['name'] = ingredients['name'].str.strip()\n",
    "\n",
    "ingredients['ingredient'] = ingredients['ingredient'].replace(to_replace ='OR', value = ',', regex = True)\n",
    "ingredients['ingredient'] = ingredients['ingredient'].replace(to_replace ='\\+', value = ',', regex = True)\n",
    "ingredients['ingredient'] = ingredients['ingredient'].replace(to_replace ='=', value = ',', regex = True)\n",
    "ingredients['ingredient'] = ingredients['ingredient'].replace(to_replace =' +', value = ' ', regex = True)\n",
    "ingredients['ingredient'] = ingredients['ingredient'].replace(to_replace ='\\(.+\\)', value = '', regex = True)\n",
    "ingredients['ingredient'] = ingredients['ingredient'].str.strip()"
   ]
  },
  {
   "cell_type": "code",
   "execution_count": 156,
   "metadata": {},
   "outputs": [
    {
     "data": {
      "text/html": [
       "<div>\n",
       "<style scoped>\n",
       "    .dataframe tbody tr th:only-of-type {\n",
       "        vertical-align: middle;\n",
       "    }\n",
       "\n",
       "    .dataframe tbody tr th {\n",
       "        vertical-align: top;\n",
       "    }\n",
       "\n",
       "    .dataframe thead th {\n",
       "        text-align: right;\n",
       "    }\n",
       "</style>\n",
       "<table border=\"1\" class=\"dataframe\">\n",
       "  <thead>\n",
       "    <tr style=\"text-align: right;\">\n",
       "      <th></th>\n",
       "      <th>0</th>\n",
       "      <th>name</th>\n",
       "      <th>ingredient</th>\n",
       "      <th>url</th>\n",
       "      <th>id</th>\n",
       "    </tr>\n",
       "  </thead>\n",
       "  <tbody>\n",
       "    <tr>\n",
       "      <th>0</th>\n",
       "      <td>0</td>\n",
       "      <td>fortified wine</td>\n",
       "      <td>sparkling wine  , dessert wine</td>\n",
       "      <td>scraped_pages/subs_www.foodsubs.com_Aperitif.h...</td>\n",
       "      <td>0</td>\n",
       "    </tr>\n",
       "    <tr>\n",
       "      <th>1</th>\n",
       "      <td>1</td>\n",
       "      <td>dry vermouth = French vermouth = white vermouth</td>\n",
       "      <td>sweet vermouth , omit</td>\n",
       "      <td>scraped_pages/subs_www.foodsubs.com_Aperitif.h...</td>\n",
       "      <td>1</td>\n",
       "    </tr>\n",
       "    <tr>\n",
       "      <th>2</th>\n",
       "      <td>2</td>\n",
       "      <td>Madeira</td>\n",
       "      <td>port</td>\n",
       "      <td>scraped_pages/subs_www.foodsubs.com_Aperitif.h...</td>\n",
       "      <td>2</td>\n",
       "    </tr>\n",
       "    <tr>\n",
       "      <th>3</th>\n",
       "      <td>3</td>\n",
       "      <td>Marsala</td>\n",
       "      <td>Madeira , equal parts sherry and sweet vermout...</td>\n",
       "      <td>scraped_pages/subs_www.foodsubs.com_Aperitif.h...</td>\n",
       "      <td>3</td>\n",
       "    </tr>\n",
       "    <tr>\n",
       "      <th>4</th>\n",
       "      <td>4</td>\n",
       "      <td>port = port wine</td>\n",
       "      <td>Madeira , dry vermouth , black muscat wine  be...</td>\n",
       "      <td>scraped_pages/subs_www.foodsubs.com_Aperitif.h...</td>\n",
       "      <td>4</td>\n",
       "    </tr>\n",
       "    <tr>\n",
       "      <th>...</th>\n",
       "      <td>...</td>\n",
       "      <td>...</td>\n",
       "      <td>...</td>\n",
       "      <td>...</td>\n",
       "      <td>...</td>\n",
       "    </tr>\n",
       "    <tr>\n",
       "      <th>95</th>\n",
       "      <td>1</td>\n",
       "      <td>Brussels sprouts</td>\n",
       "      <td>broccoli flowerets</td>\n",
       "      <td>scraped_pages/subs_www.foodsubs.com_Cabbage.ht...</td>\n",
       "      <td>95</td>\n",
       "    </tr>\n",
       "    <tr>\n",
       "      <th>96</th>\n",
       "      <td>2</td>\n",
       "      <td>flowering kale = ornamental kale = flowering c...</td>\n",
       "      <td>kale</td>\n",
       "      <td>scraped_pages/subs_www.foodsubs.com_Cabbage.ht...</td>\n",
       "      <td>96</td>\n",
       "    </tr>\n",
       "    <tr>\n",
       "      <th>97</th>\n",
       "      <td>3</td>\n",
       "      <td>green cabbage</td>\n",
       "      <td>red cabbage</td>\n",
       "      <td>scraped_pages/subs_www.foodsubs.com_Cabbage.ht...</td>\n",
       "      <td>97</td>\n",
       "    </tr>\n",
       "    <tr>\n",
       "      <th>98</th>\n",
       "      <td>4</td>\n",
       "      <td>kohlrabi = cabbage turnip = stem cabbage = tur...</td>\n",
       "      <td>broccoli stems , celeriac  , turnips , parsnips</td>\n",
       "      <td>scraped_pages/subs_www.foodsubs.com_Cabbage.ht...</td>\n",
       "      <td>98</td>\n",
       "    </tr>\n",
       "    <tr>\n",
       "      <th>99</th>\n",
       "      <td>6</td>\n",
       "      <td>red cabbage</td>\n",
       "      <td>green cabbage</td>\n",
       "      <td>scraped_pages/subs_www.foodsubs.com_Cabbage.ht...</td>\n",
       "      <td>99</td>\n",
       "    </tr>\n",
       "  </tbody>\n",
       "</table>\n",
       "<p>100 rows × 5 columns</p>\n",
       "</div>"
      ],
      "text/plain": [
       "    0                                               name  \\\n",
       "0   0                                     fortified wine   \n",
       "1   1    dry vermouth = French vermouth = white vermouth   \n",
       "2   2                                            Madeira   \n",
       "3   3                                            Marsala   \n",
       "4   4                                   port = port wine   \n",
       ".. ..                                                ...   \n",
       "95  1                                   Brussels sprouts   \n",
       "96  2  flowering kale = ornamental kale = flowering c...   \n",
       "97  3                                      green cabbage   \n",
       "98  4  kohlrabi = cabbage turnip = stem cabbage = tur...   \n",
       "99  6                                        red cabbage   \n",
       "\n",
       "                                           ingredient  \\\n",
       "0                      sparkling wine  , dessert wine   \n",
       "1                               sweet vermouth , omit   \n",
       "2                                                port   \n",
       "3   Madeira , equal parts sherry and sweet vermout...   \n",
       "4   Madeira , dry vermouth , black muscat wine  be...   \n",
       "..                                                ...   \n",
       "95                                 broccoli flowerets   \n",
       "96                                               kale   \n",
       "97                                        red cabbage   \n",
       "98    broccoli stems , celeriac  , turnips , parsnips   \n",
       "99                                      green cabbage   \n",
       "\n",
       "                                                  url  id  \n",
       "0   scraped_pages/subs_www.foodsubs.com_Aperitif.h...   0  \n",
       "1   scraped_pages/subs_www.foodsubs.com_Aperitif.h...   1  \n",
       "2   scraped_pages/subs_www.foodsubs.com_Aperitif.h...   2  \n",
       "3   scraped_pages/subs_www.foodsubs.com_Aperitif.h...   3  \n",
       "4   scraped_pages/subs_www.foodsubs.com_Aperitif.h...   4  \n",
       "..                                                ...  ..  \n",
       "95  scraped_pages/subs_www.foodsubs.com_Cabbage.ht...  95  \n",
       "96  scraped_pages/subs_www.foodsubs.com_Cabbage.ht...  96  \n",
       "97  scraped_pages/subs_www.foodsubs.com_Cabbage.ht...  97  \n",
       "98  scraped_pages/subs_www.foodsubs.com_Cabbage.ht...  98  \n",
       "99  scraped_pages/subs_www.foodsubs.com_Cabbage.ht...  99  \n",
       "\n",
       "[100 rows x 5 columns]"
      ]
     },
     "execution_count": 156,
     "metadata": {},
     "output_type": "execute_result"
    }
   ],
   "source": [
    "ingredients.head(100)"
   ]
  },
  {
   "cell_type": "code",
   "execution_count": 151,
   "metadata": {},
   "outputs": [
    {
     "data": {
      "text/plain": [
       "2388"
      ]
     },
     "execution_count": 151,
     "metadata": {},
     "output_type": "execute_result"
    }
   ],
   "source": [
    "len(ingredients)"
   ]
  },
  {
   "cell_type": "code",
   "execution_count": 157,
   "metadata": {},
   "outputs": [],
   "source": [
    "class Ingredient:\n",
    "    def __init__(self, id, name, ingredient):\n",
    "        self.id = id\n",
    "        self.name = [x.strip() for x in name.split('=')]\n",
    "        self.ingredient = [x.strip() for x in ingredient.split(',')]\n",
    "\n",
    "class OpenFoodFact():\n",
    "    def __init__(self, ingredients: List[Ingredient]):\n",
    "        self.ingredients = ingredients\n",
    "        \n",
    "ingredients = [(Ingredient(row['id'], row['name'], row['ingredient'])) for index, row in ingredients.iterrows()]\n",
    "\n",
    "openfoodfact = OpenFoodFact(ingredients=ingredients)"
   ]
  },
  {
   "cell_type": "code",
   "execution_count": 158,
   "metadata": {},
   "outputs": [],
   "source": [
    "json_data = json.dumps(openfoodfact, default=lambda o: o.__dict__, indent=4, ensure_ascii=False)\n",
    "text_file = open(\"ingredients.json\", \"w\", encoding='utf-8')\n",
    "text_file.write(json_data)\n",
    "text_file.close()"
   ]
  },
  {
   "cell_type": "code",
   "execution_count": null,
   "metadata": {},
   "outputs": [],
   "source": []
  }
 ],
 "metadata": {
  "kernelspec": {
   "display_name": "Python 3",
   "language": "python",
   "name": "python3"
  },
  "language_info": {
   "codemirror_mode": {
    "name": "ipython",
    "version": 3
   },
   "file_extension": ".py",
   "mimetype": "text/x-python",
   "name": "python",
   "nbconvert_exporter": "python",
   "pygments_lexer": "ipython3",
   "version": "3.8.3"
  }
 },
 "nbformat": 4,
 "nbformat_minor": 4
}
